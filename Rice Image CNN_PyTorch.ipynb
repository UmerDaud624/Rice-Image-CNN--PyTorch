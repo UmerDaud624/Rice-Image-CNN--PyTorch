{
  "nbformat": 4,
  "nbformat_minor": 0,
  "metadata": {
    "colab": {
      "provenance": [],
      "gpuType": "T4"
    },
    "kernelspec": {
      "name": "python3",
      "display_name": "Python 3"
    },
    "language_info": {
      "name": "python"
    },
    "accelerator": "GPU",
    "widgets": {
      "application/vnd.jupyter.widget-state+json": {
        "883b210426494428846196bda876e9a0": {
          "model_module": "@jupyter-widgets/controls",
          "model_name": "HBoxModel",
          "model_module_version": "1.5.0",
          "state": {
            "_dom_classes": [],
            "_model_module": "@jupyter-widgets/controls",
            "_model_module_version": "1.5.0",
            "_model_name": "HBoxModel",
            "_view_count": null,
            "_view_module": "@jupyter-widgets/controls",
            "_view_module_version": "1.5.0",
            "_view_name": "HBoxView",
            "box_style": "",
            "children": [
              "IPY_MODEL_b2738b0f0b674470863a919abd178fe0",
              "IPY_MODEL_65c433a366f24ac3859444a5b70fd76a",
              "IPY_MODEL_0f68f41f88414d4996c2bab7761b2abc"
            ],
            "layout": "IPY_MODEL_1b84487eef9d4aa38d1252f5ace08b28"
          }
        },
        "b2738b0f0b674470863a919abd178fe0": {
          "model_module": "@jupyter-widgets/controls",
          "model_name": "HTMLModel",
          "model_module_version": "1.5.0",
          "state": {
            "_dom_classes": [],
            "_model_module": "@jupyter-widgets/controls",
            "_model_module_version": "1.5.0",
            "_model_name": "HTMLModel",
            "_view_count": null,
            "_view_module": "@jupyter-widgets/controls",
            "_view_module_version": "1.5.0",
            "_view_name": "HTMLView",
            "description": "",
            "description_tooltip": null,
            "layout": "IPY_MODEL_b7f475dda4d64739a6adf6c79f90777d",
            "placeholder": "​",
            "style": "IPY_MODEL_ab38a716fb484a64ac49ee1334ca1c26",
            "value": "100%"
          }
        },
        "65c433a366f24ac3859444a5b70fd76a": {
          "model_module": "@jupyter-widgets/controls",
          "model_name": "FloatProgressModel",
          "model_module_version": "1.5.0",
          "state": {
            "_dom_classes": [],
            "_model_module": "@jupyter-widgets/controls",
            "_model_module_version": "1.5.0",
            "_model_name": "FloatProgressModel",
            "_view_count": null,
            "_view_module": "@jupyter-widgets/controls",
            "_view_module_version": "1.5.0",
            "_view_name": "ProgressView",
            "bar_style": "success",
            "description": "",
            "description_tooltip": null,
            "layout": "IPY_MODEL_e69cd010346c45a99242ffc87ee1270c",
            "max": 5,
            "min": 0,
            "orientation": "horizontal",
            "style": "IPY_MODEL_d902592deca94f7a9a6fa60caa7aec89",
            "value": 5
          }
        },
        "0f68f41f88414d4996c2bab7761b2abc": {
          "model_module": "@jupyter-widgets/controls",
          "model_name": "HTMLModel",
          "model_module_version": "1.5.0",
          "state": {
            "_dom_classes": [],
            "_model_module": "@jupyter-widgets/controls",
            "_model_module_version": "1.5.0",
            "_model_name": "HTMLModel",
            "_view_count": null,
            "_view_module": "@jupyter-widgets/controls",
            "_view_module_version": "1.5.0",
            "_view_name": "HTMLView",
            "description": "",
            "description_tooltip": null,
            "layout": "IPY_MODEL_b6285e5fc7a249c0ba26f805cd438aba",
            "placeholder": "​",
            "style": "IPY_MODEL_57143c01c9674b4b903551fe55d416c9",
            "value": " 5/5 [07:32&lt;00:00, 90.23s/it]"
          }
        },
        "1b84487eef9d4aa38d1252f5ace08b28": {
          "model_module": "@jupyter-widgets/base",
          "model_name": "LayoutModel",
          "model_module_version": "1.2.0",
          "state": {
            "_model_module": "@jupyter-widgets/base",
            "_model_module_version": "1.2.0",
            "_model_name": "LayoutModel",
            "_view_count": null,
            "_view_module": "@jupyter-widgets/base",
            "_view_module_version": "1.2.0",
            "_view_name": "LayoutView",
            "align_content": null,
            "align_items": null,
            "align_self": null,
            "border": null,
            "bottom": null,
            "display": null,
            "flex": null,
            "flex_flow": null,
            "grid_area": null,
            "grid_auto_columns": null,
            "grid_auto_flow": null,
            "grid_auto_rows": null,
            "grid_column": null,
            "grid_gap": null,
            "grid_row": null,
            "grid_template_areas": null,
            "grid_template_columns": null,
            "grid_template_rows": null,
            "height": null,
            "justify_content": null,
            "justify_items": null,
            "left": null,
            "margin": null,
            "max_height": null,
            "max_width": null,
            "min_height": null,
            "min_width": null,
            "object_fit": null,
            "object_position": null,
            "order": null,
            "overflow": null,
            "overflow_x": null,
            "overflow_y": null,
            "padding": null,
            "right": null,
            "top": null,
            "visibility": null,
            "width": null
          }
        },
        "b7f475dda4d64739a6adf6c79f90777d": {
          "model_module": "@jupyter-widgets/base",
          "model_name": "LayoutModel",
          "model_module_version": "1.2.0",
          "state": {
            "_model_module": "@jupyter-widgets/base",
            "_model_module_version": "1.2.0",
            "_model_name": "LayoutModel",
            "_view_count": null,
            "_view_module": "@jupyter-widgets/base",
            "_view_module_version": "1.2.0",
            "_view_name": "LayoutView",
            "align_content": null,
            "align_items": null,
            "align_self": null,
            "border": null,
            "bottom": null,
            "display": null,
            "flex": null,
            "flex_flow": null,
            "grid_area": null,
            "grid_auto_columns": null,
            "grid_auto_flow": null,
            "grid_auto_rows": null,
            "grid_column": null,
            "grid_gap": null,
            "grid_row": null,
            "grid_template_areas": null,
            "grid_template_columns": null,
            "grid_template_rows": null,
            "height": null,
            "justify_content": null,
            "justify_items": null,
            "left": null,
            "margin": null,
            "max_height": null,
            "max_width": null,
            "min_height": null,
            "min_width": null,
            "object_fit": null,
            "object_position": null,
            "order": null,
            "overflow": null,
            "overflow_x": null,
            "overflow_y": null,
            "padding": null,
            "right": null,
            "top": null,
            "visibility": null,
            "width": null
          }
        },
        "ab38a716fb484a64ac49ee1334ca1c26": {
          "model_module": "@jupyter-widgets/controls",
          "model_name": "DescriptionStyleModel",
          "model_module_version": "1.5.0",
          "state": {
            "_model_module": "@jupyter-widgets/controls",
            "_model_module_version": "1.5.0",
            "_model_name": "DescriptionStyleModel",
            "_view_count": null,
            "_view_module": "@jupyter-widgets/base",
            "_view_module_version": "1.2.0",
            "_view_name": "StyleView",
            "description_width": ""
          }
        },
        "e69cd010346c45a99242ffc87ee1270c": {
          "model_module": "@jupyter-widgets/base",
          "model_name": "LayoutModel",
          "model_module_version": "1.2.0",
          "state": {
            "_model_module": "@jupyter-widgets/base",
            "_model_module_version": "1.2.0",
            "_model_name": "LayoutModel",
            "_view_count": null,
            "_view_module": "@jupyter-widgets/base",
            "_view_module_version": "1.2.0",
            "_view_name": "LayoutView",
            "align_content": null,
            "align_items": null,
            "align_self": null,
            "border": null,
            "bottom": null,
            "display": null,
            "flex": null,
            "flex_flow": null,
            "grid_area": null,
            "grid_auto_columns": null,
            "grid_auto_flow": null,
            "grid_auto_rows": null,
            "grid_column": null,
            "grid_gap": null,
            "grid_row": null,
            "grid_template_areas": null,
            "grid_template_columns": null,
            "grid_template_rows": null,
            "height": null,
            "justify_content": null,
            "justify_items": null,
            "left": null,
            "margin": null,
            "max_height": null,
            "max_width": null,
            "min_height": null,
            "min_width": null,
            "object_fit": null,
            "object_position": null,
            "order": null,
            "overflow": null,
            "overflow_x": null,
            "overflow_y": null,
            "padding": null,
            "right": null,
            "top": null,
            "visibility": null,
            "width": null
          }
        },
        "d902592deca94f7a9a6fa60caa7aec89": {
          "model_module": "@jupyter-widgets/controls",
          "model_name": "ProgressStyleModel",
          "model_module_version": "1.5.0",
          "state": {
            "_model_module": "@jupyter-widgets/controls",
            "_model_module_version": "1.5.0",
            "_model_name": "ProgressStyleModel",
            "_view_count": null,
            "_view_module": "@jupyter-widgets/base",
            "_view_module_version": "1.2.0",
            "_view_name": "StyleView",
            "bar_color": null,
            "description_width": ""
          }
        },
        "b6285e5fc7a249c0ba26f805cd438aba": {
          "model_module": "@jupyter-widgets/base",
          "model_name": "LayoutModel",
          "model_module_version": "1.2.0",
          "state": {
            "_model_module": "@jupyter-widgets/base",
            "_model_module_version": "1.2.0",
            "_model_name": "LayoutModel",
            "_view_count": null,
            "_view_module": "@jupyter-widgets/base",
            "_view_module_version": "1.2.0",
            "_view_name": "LayoutView",
            "align_content": null,
            "align_items": null,
            "align_self": null,
            "border": null,
            "bottom": null,
            "display": null,
            "flex": null,
            "flex_flow": null,
            "grid_area": null,
            "grid_auto_columns": null,
            "grid_auto_flow": null,
            "grid_auto_rows": null,
            "grid_column": null,
            "grid_gap": null,
            "grid_row": null,
            "grid_template_areas": null,
            "grid_template_columns": null,
            "grid_template_rows": null,
            "height": null,
            "justify_content": null,
            "justify_items": null,
            "left": null,
            "margin": null,
            "max_height": null,
            "max_width": null,
            "min_height": null,
            "min_width": null,
            "object_fit": null,
            "object_position": null,
            "order": null,
            "overflow": null,
            "overflow_x": null,
            "overflow_y": null,
            "padding": null,
            "right": null,
            "top": null,
            "visibility": null,
            "width": null
          }
        },
        "57143c01c9674b4b903551fe55d416c9": {
          "model_module": "@jupyter-widgets/controls",
          "model_name": "DescriptionStyleModel",
          "model_module_version": "1.5.0",
          "state": {
            "_model_module": "@jupyter-widgets/controls",
            "_model_module_version": "1.5.0",
            "_model_name": "DescriptionStyleModel",
            "_view_count": null,
            "_view_module": "@jupyter-widgets/base",
            "_view_module_version": "1.2.0",
            "_view_name": "StyleView",
            "description_width": ""
          }
        }
      }
    }
  },
  "cells": [
    {
      "cell_type": "code",
      "execution_count": 1,
      "metadata": {
        "colab": {
          "base_uri": "https://localhost:8080/"
        },
        "id": "O3qZpMVhnyd-",
        "outputId": "094d2e92-1683-4215-aba8-5c1db1674003"
      },
      "outputs": [
        {
          "output_type": "stream",
          "name": "stdout",
          "text": [
            "Collecting opendatasets\n",
            "  Downloading opendatasets-0.1.22-py3-none-any.whl.metadata (9.2 kB)\n",
            "Requirement already satisfied: tqdm in /usr/local/lib/python3.10/dist-packages (from opendatasets) (4.66.5)\n",
            "Requirement already satisfied: kaggle in /usr/local/lib/python3.10/dist-packages (from opendatasets) (1.6.17)\n",
            "Requirement already satisfied: click in /usr/local/lib/python3.10/dist-packages (from opendatasets) (8.1.7)\n",
            "Requirement already satisfied: six>=1.10 in /usr/local/lib/python3.10/dist-packages (from kaggle->opendatasets) (1.16.0)\n",
            "Requirement already satisfied: certifi>=2023.7.22 in /usr/local/lib/python3.10/dist-packages (from kaggle->opendatasets) (2024.7.4)\n",
            "Requirement already satisfied: python-dateutil in /usr/local/lib/python3.10/dist-packages (from kaggle->opendatasets) (2.8.2)\n",
            "Requirement already satisfied: requests in /usr/local/lib/python3.10/dist-packages (from kaggle->opendatasets) (2.32.3)\n",
            "Requirement already satisfied: python-slugify in /usr/local/lib/python3.10/dist-packages (from kaggle->opendatasets) (8.0.4)\n",
            "Requirement already satisfied: urllib3 in /usr/local/lib/python3.10/dist-packages (from kaggle->opendatasets) (2.0.7)\n",
            "Requirement already satisfied: bleach in /usr/local/lib/python3.10/dist-packages (from kaggle->opendatasets) (6.1.0)\n",
            "Requirement already satisfied: webencodings in /usr/local/lib/python3.10/dist-packages (from bleach->kaggle->opendatasets) (0.5.1)\n",
            "Requirement already satisfied: text-unidecode>=1.3 in /usr/local/lib/python3.10/dist-packages (from python-slugify->kaggle->opendatasets) (1.3)\n",
            "Requirement already satisfied: charset-normalizer<4,>=2 in /usr/local/lib/python3.10/dist-packages (from requests->kaggle->opendatasets) (3.3.2)\n",
            "Requirement already satisfied: idna<4,>=2.5 in /usr/local/lib/python3.10/dist-packages (from requests->kaggle->opendatasets) (3.7)\n",
            "Downloading opendatasets-0.1.22-py3-none-any.whl (15 kB)\n",
            "Installing collected packages: opendatasets\n",
            "Successfully installed opendatasets-0.1.22\n"
          ]
        }
      ],
      "source": [
        "!pip install opendatasets"
      ]
    },
    {
      "cell_type": "code",
      "source": [
        "!pip install torchinfo"
      ],
      "metadata": {
        "colab": {
          "base_uri": "https://localhost:8080/"
        },
        "id": "CNvnaMpeqh6P",
        "outputId": "0cfb981b-fda1-476a-f86e-46781af5a5a8"
      },
      "execution_count": 2,
      "outputs": [
        {
          "output_type": "stream",
          "name": "stdout",
          "text": [
            "Collecting torchinfo\n",
            "  Downloading torchinfo-1.8.0-py3-none-any.whl.metadata (21 kB)\n",
            "Downloading torchinfo-1.8.0-py3-none-any.whl (23 kB)\n",
            "Installing collected packages: torchinfo\n",
            "Successfully installed torchinfo-1.8.0\n"
          ]
        }
      ]
    },
    {
      "cell_type": "code",
      "source": [
        "!pip install torchmetrics"
      ],
      "metadata": {
        "colab": {
          "base_uri": "https://localhost:8080/"
        },
        "id": "Y-074OsMqlgC",
        "outputId": "880c0fae-fe79-447a-ee4c-8eb25afe0727"
      },
      "execution_count": 3,
      "outputs": [
        {
          "output_type": "stream",
          "name": "stdout",
          "text": [
            "Collecting torchmetrics\n",
            "  Downloading torchmetrics-1.4.1-py3-none-any.whl.metadata (20 kB)\n",
            "Requirement already satisfied: numpy>1.20.0 in /usr/local/lib/python3.10/dist-packages (from torchmetrics) (1.26.4)\n",
            "Requirement already satisfied: packaging>17.1 in /usr/local/lib/python3.10/dist-packages (from torchmetrics) (24.1)\n",
            "Requirement already satisfied: torch>=1.10.0 in /usr/local/lib/python3.10/dist-packages (from torchmetrics) (2.3.1+cu121)\n",
            "Collecting lightning-utilities>=0.8.0 (from torchmetrics)\n",
            "  Downloading lightning_utilities-0.11.6-py3-none-any.whl.metadata (5.2 kB)\n",
            "Requirement already satisfied: setuptools in /usr/local/lib/python3.10/dist-packages (from lightning-utilities>=0.8.0->torchmetrics) (71.0.4)\n",
            "Requirement already satisfied: typing-extensions in /usr/local/lib/python3.10/dist-packages (from lightning-utilities>=0.8.0->torchmetrics) (4.12.2)\n",
            "Requirement already satisfied: filelock in /usr/local/lib/python3.10/dist-packages (from torch>=1.10.0->torchmetrics) (3.15.4)\n",
            "Requirement already satisfied: sympy in /usr/local/lib/python3.10/dist-packages (from torch>=1.10.0->torchmetrics) (1.13.1)\n",
            "Requirement already satisfied: networkx in /usr/local/lib/python3.10/dist-packages (from torch>=1.10.0->torchmetrics) (3.3)\n",
            "Requirement already satisfied: jinja2 in /usr/local/lib/python3.10/dist-packages (from torch>=1.10.0->torchmetrics) (3.1.4)\n",
            "Requirement already satisfied: fsspec in /usr/local/lib/python3.10/dist-packages (from torch>=1.10.0->torchmetrics) (2024.6.1)\n",
            "Collecting nvidia-cuda-nvrtc-cu12==12.1.105 (from torch>=1.10.0->torchmetrics)\n",
            "  Using cached nvidia_cuda_nvrtc_cu12-12.1.105-py3-none-manylinux1_x86_64.whl.metadata (1.5 kB)\n",
            "Collecting nvidia-cuda-runtime-cu12==12.1.105 (from torch>=1.10.0->torchmetrics)\n",
            "  Using cached nvidia_cuda_runtime_cu12-12.1.105-py3-none-manylinux1_x86_64.whl.metadata (1.5 kB)\n",
            "Collecting nvidia-cuda-cupti-cu12==12.1.105 (from torch>=1.10.0->torchmetrics)\n",
            "  Using cached nvidia_cuda_cupti_cu12-12.1.105-py3-none-manylinux1_x86_64.whl.metadata (1.6 kB)\n",
            "Collecting nvidia-cudnn-cu12==8.9.2.26 (from torch>=1.10.0->torchmetrics)\n",
            "  Using cached nvidia_cudnn_cu12-8.9.2.26-py3-none-manylinux1_x86_64.whl.metadata (1.6 kB)\n",
            "Collecting nvidia-cublas-cu12==12.1.3.1 (from torch>=1.10.0->torchmetrics)\n",
            "  Using cached nvidia_cublas_cu12-12.1.3.1-py3-none-manylinux1_x86_64.whl.metadata (1.5 kB)\n",
            "Collecting nvidia-cufft-cu12==11.0.2.54 (from torch>=1.10.0->torchmetrics)\n",
            "  Using cached nvidia_cufft_cu12-11.0.2.54-py3-none-manylinux1_x86_64.whl.metadata (1.5 kB)\n",
            "Collecting nvidia-curand-cu12==10.3.2.106 (from torch>=1.10.0->torchmetrics)\n",
            "  Using cached nvidia_curand_cu12-10.3.2.106-py3-none-manylinux1_x86_64.whl.metadata (1.5 kB)\n",
            "Collecting nvidia-cusolver-cu12==11.4.5.107 (from torch>=1.10.0->torchmetrics)\n",
            "  Using cached nvidia_cusolver_cu12-11.4.5.107-py3-none-manylinux1_x86_64.whl.metadata (1.6 kB)\n",
            "Collecting nvidia-cusparse-cu12==12.1.0.106 (from torch>=1.10.0->torchmetrics)\n",
            "  Using cached nvidia_cusparse_cu12-12.1.0.106-py3-none-manylinux1_x86_64.whl.metadata (1.6 kB)\n",
            "Collecting nvidia-nccl-cu12==2.20.5 (from torch>=1.10.0->torchmetrics)\n",
            "  Using cached nvidia_nccl_cu12-2.20.5-py3-none-manylinux2014_x86_64.whl.metadata (1.8 kB)\n",
            "Collecting nvidia-nvtx-cu12==12.1.105 (from torch>=1.10.0->torchmetrics)\n",
            "  Using cached nvidia_nvtx_cu12-12.1.105-py3-none-manylinux1_x86_64.whl.metadata (1.7 kB)\n",
            "Requirement already satisfied: triton==2.3.1 in /usr/local/lib/python3.10/dist-packages (from torch>=1.10.0->torchmetrics) (2.3.1)\n",
            "Collecting nvidia-nvjitlink-cu12 (from nvidia-cusolver-cu12==11.4.5.107->torch>=1.10.0->torchmetrics)\n",
            "  Using cached nvidia_nvjitlink_cu12-12.6.20-py3-none-manylinux2014_x86_64.whl.metadata (1.5 kB)\n",
            "Requirement already satisfied: MarkupSafe>=2.0 in /usr/local/lib/python3.10/dist-packages (from jinja2->torch>=1.10.0->torchmetrics) (2.1.5)\n",
            "Requirement already satisfied: mpmath<1.4,>=1.1.0 in /usr/local/lib/python3.10/dist-packages (from sympy->torch>=1.10.0->torchmetrics) (1.3.0)\n",
            "Downloading torchmetrics-1.4.1-py3-none-any.whl (866 kB)\n",
            "\u001b[2K   \u001b[90m━━━━━━━━━━━━━━━━━━━━━━━━━━━━━━━━━━━━━━━━\u001b[0m \u001b[32m866.2/866.2 kB\u001b[0m \u001b[31m13.5 MB/s\u001b[0m eta \u001b[36m0:00:00\u001b[0m\n",
            "\u001b[?25hDownloading lightning_utilities-0.11.6-py3-none-any.whl (26 kB)\n",
            "Using cached nvidia_cublas_cu12-12.1.3.1-py3-none-manylinux1_x86_64.whl (410.6 MB)\n",
            "Using cached nvidia_cuda_cupti_cu12-12.1.105-py3-none-manylinux1_x86_64.whl (14.1 MB)\n",
            "Using cached nvidia_cuda_nvrtc_cu12-12.1.105-py3-none-manylinux1_x86_64.whl (23.7 MB)\n",
            "Using cached nvidia_cuda_runtime_cu12-12.1.105-py3-none-manylinux1_x86_64.whl (823 kB)\n",
            "Using cached nvidia_cudnn_cu12-8.9.2.26-py3-none-manylinux1_x86_64.whl (731.7 MB)\n",
            "Using cached nvidia_cufft_cu12-11.0.2.54-py3-none-manylinux1_x86_64.whl (121.6 MB)\n",
            "Using cached nvidia_curand_cu12-10.3.2.106-py3-none-manylinux1_x86_64.whl (56.5 MB)\n",
            "Using cached nvidia_cusolver_cu12-11.4.5.107-py3-none-manylinux1_x86_64.whl (124.2 MB)\n",
            "Using cached nvidia_cusparse_cu12-12.1.0.106-py3-none-manylinux1_x86_64.whl (196.0 MB)\n",
            "Using cached nvidia_nccl_cu12-2.20.5-py3-none-manylinux2014_x86_64.whl (176.2 MB)\n",
            "Using cached nvidia_nvtx_cu12-12.1.105-py3-none-manylinux1_x86_64.whl (99 kB)\n",
            "Using cached nvidia_nvjitlink_cu12-12.6.20-py3-none-manylinux2014_x86_64.whl (19.7 MB)\n",
            "Installing collected packages: nvidia-nvtx-cu12, nvidia-nvjitlink-cu12, nvidia-nccl-cu12, nvidia-curand-cu12, nvidia-cufft-cu12, nvidia-cuda-runtime-cu12, nvidia-cuda-nvrtc-cu12, nvidia-cuda-cupti-cu12, nvidia-cublas-cu12, lightning-utilities, nvidia-cusparse-cu12, nvidia-cudnn-cu12, nvidia-cusolver-cu12, torchmetrics\n",
            "Successfully installed lightning-utilities-0.11.6 nvidia-cublas-cu12-12.1.3.1 nvidia-cuda-cupti-cu12-12.1.105 nvidia-cuda-nvrtc-cu12-12.1.105 nvidia-cuda-runtime-cu12-12.1.105 nvidia-cudnn-cu12-8.9.2.26 nvidia-cufft-cu12-11.0.2.54 nvidia-curand-cu12-10.3.2.106 nvidia-cusolver-cu12-11.4.5.107 nvidia-cusparse-cu12-12.1.0.106 nvidia-nccl-cu12-2.20.5 nvidia-nvjitlink-cu12-12.6.20 nvidia-nvtx-cu12-12.1.105 torchmetrics-1.4.1\n"
          ]
        }
      ]
    },
    {
      "cell_type": "code",
      "source": [
        "import opendatasets as od"
      ],
      "metadata": {
        "id": "kfZsN19Sn1eV"
      },
      "execution_count": 4,
      "outputs": []
    },
    {
      "cell_type": "code",
      "source": [
        "from pathlib import Path\n",
        "\n",
        "data_dir = Path('Data')\n",
        "data_dir.mkdir(parents=True, exist_ok=True)"
      ],
      "metadata": {
        "id": "GNVRKRiAGukD"
      },
      "execution_count": 5,
      "outputs": []
    },
    {
      "cell_type": "code",
      "source": [
        "od.download('https://www.kaggle.com/datasets/muratkokludataset/rice-image-dataset', data_dir=data_dir)"
      ],
      "metadata": {
        "colab": {
          "base_uri": "https://localhost:8080/"
        },
        "id": "Xr2vTbAxoDm4",
        "outputId": "ee604887-ed29-463a-b350-93771cd50f63"
      },
      "execution_count": 6,
      "outputs": [
        {
          "output_type": "stream",
          "name": "stdout",
          "text": [
            "Please provide your Kaggle credentials to download this dataset. Learn more: http://bit.ly/kaggle-creds\n",
            "Your Kaggle username: umerdaud\n",
            "Your Kaggle Key: ··········\n",
            "Dataset URL: https://www.kaggle.com/datasets/muratkokludataset/rice-image-dataset\n",
            "Downloading rice-image-dataset.zip to Data/rice-image-dataset\n"
          ]
        },
        {
          "output_type": "stream",
          "name": "stderr",
          "text": [
            "100%|██████████| 219M/219M [00:01<00:00, 115MB/s]\n"
          ]
        },
        {
          "output_type": "stream",
          "name": "stdout",
          "text": [
            "\n"
          ]
        }
      ]
    },
    {
      "cell_type": "markdown",
      "source": [
        "## Data Preprocessing & Creating Custom data\n"
      ],
      "metadata": {
        "id": "fslfjz7x8M1j"
      }
    },
    {
      "cell_type": "code",
      "source": [
        "import os"
      ],
      "metadata": {
        "id": "bsCtw9v6rRiJ"
      },
      "execution_count": 7,
      "outputs": []
    },
    {
      "cell_type": "code",
      "source": [
        "for dirpath, dirnames, filenames in os.walk(data_dir):\n",
        "  print(f\"There are {len(dirnames)} directories, {len(filenames)} images in {dirpath}\")"
      ],
      "metadata": {
        "colab": {
          "base_uri": "https://localhost:8080/"
        },
        "id": "MrY-2WX0rWn-",
        "outputId": "c824761b-1777-4065-b8c9-a772dc1e891d"
      },
      "execution_count": 8,
      "outputs": [
        {
          "output_type": "stream",
          "name": "stdout",
          "text": [
            "There are 1 directories, 0 images in Data\n",
            "There are 1 directories, 0 images in Data/rice-image-dataset\n",
            "There are 5 directories, 1 images in Data/rice-image-dataset/Rice_Image_Dataset\n",
            "There are 0 directories, 15000 images in Data/rice-image-dataset/Rice_Image_Dataset/Ipsala\n",
            "There are 0 directories, 15000 images in Data/rice-image-dataset/Rice_Image_Dataset/Karacadag\n",
            "There are 0 directories, 15000 images in Data/rice-image-dataset/Rice_Image_Dataset/Jasmine\n",
            "There are 0 directories, 15000 images in Data/rice-image-dataset/Rice_Image_Dataset/Arborio\n",
            "There are 0 directories, 15000 images in Data/rice-image-dataset/Rice_Image_Dataset/Basmati\n"
          ]
        }
      ]
    },
    {
      "cell_type": "code",
      "source": [
        "images_list = list(sorted(data_dir.glob('*/*/*/*.jpg')))\n",
        "images_list"
      ],
      "metadata": {
        "colab": {
          "base_uri": "https://localhost:8080/"
        },
        "id": "C0yEErZrHrSk",
        "outputId": "db4abe0f-4253-48f2-dcdb-9407394ac9a9"
      },
      "execution_count": 9,
      "outputs": [
        {
          "output_type": "execute_result",
          "data": {
            "text/plain": [
              "[PosixPath('Data/rice-image-dataset/Rice_Image_Dataset/Arborio/Arborio (1).jpg'),\n",
              " PosixPath('Data/rice-image-dataset/Rice_Image_Dataset/Arborio/Arborio (10).jpg'),\n",
              " PosixPath('Data/rice-image-dataset/Rice_Image_Dataset/Arborio/Arborio (100).jpg'),\n",
              " PosixPath('Data/rice-image-dataset/Rice_Image_Dataset/Arborio/Arborio (1000).jpg'),\n",
              " PosixPath('Data/rice-image-dataset/Rice_Image_Dataset/Arborio/Arborio (10000).jpg'),\n",
              " PosixPath('Data/rice-image-dataset/Rice_Image_Dataset/Arborio/Arborio (10001).jpg'),\n",
              " PosixPath('Data/rice-image-dataset/Rice_Image_Dataset/Arborio/Arborio (10002).jpg'),\n",
              " PosixPath('Data/rice-image-dataset/Rice_Image_Dataset/Arborio/Arborio (10003).jpg'),\n",
              " PosixPath('Data/rice-image-dataset/Rice_Image_Dataset/Arborio/Arborio (10004).jpg'),\n",
              " PosixPath('Data/rice-image-dataset/Rice_Image_Dataset/Arborio/Arborio (10005).jpg'),\n",
              " PosixPath('Data/rice-image-dataset/Rice_Image_Dataset/Arborio/Arborio (10006).jpg'),\n",
              " PosixPath('Data/rice-image-dataset/Rice_Image_Dataset/Arborio/Arborio (10007).jpg'),\n",
              " PosixPath('Data/rice-image-dataset/Rice_Image_Dataset/Arborio/Arborio (10008).jpg'),\n",
              " PosixPath('Data/rice-image-dataset/Rice_Image_Dataset/Arborio/Arborio (10009).jpg'),\n",
              " PosixPath('Data/rice-image-dataset/Rice_Image_Dataset/Arborio/Arborio (1001).jpg'),\n",
              " PosixPath('Data/rice-image-dataset/Rice_Image_Dataset/Arborio/Arborio (10010).jpg'),\n",
              " PosixPath('Data/rice-image-dataset/Rice_Image_Dataset/Arborio/Arborio (10011).jpg'),\n",
              " PosixPath('Data/rice-image-dataset/Rice_Image_Dataset/Arborio/Arborio (10012).jpg'),\n",
              " PosixPath('Data/rice-image-dataset/Rice_Image_Dataset/Arborio/Arborio (10013).jpg'),\n",
              " PosixPath('Data/rice-image-dataset/Rice_Image_Dataset/Arborio/Arborio (10014).jpg'),\n",
              " PosixPath('Data/rice-image-dataset/Rice_Image_Dataset/Arborio/Arborio (10015).jpg'),\n",
              " PosixPath('Data/rice-image-dataset/Rice_Image_Dataset/Arborio/Arborio (10016).jpg'),\n",
              " PosixPath('Data/rice-image-dataset/Rice_Image_Dataset/Arborio/Arborio (10017).jpg'),\n",
              " PosixPath('Data/rice-image-dataset/Rice_Image_Dataset/Arborio/Arborio (10018).jpg'),\n",
              " PosixPath('Data/rice-image-dataset/Rice_Image_Dataset/Arborio/Arborio (10019).jpg'),\n",
              " PosixPath('Data/rice-image-dataset/Rice_Image_Dataset/Arborio/Arborio (1002).jpg'),\n",
              " PosixPath('Data/rice-image-dataset/Rice_Image_Dataset/Arborio/Arborio (10020).jpg'),\n",
              " PosixPath('Data/rice-image-dataset/Rice_Image_Dataset/Arborio/Arborio (10021).jpg'),\n",
              " PosixPath('Data/rice-image-dataset/Rice_Image_Dataset/Arborio/Arborio (10022).jpg'),\n",
              " PosixPath('Data/rice-image-dataset/Rice_Image_Dataset/Arborio/Arborio (10023).jpg'),\n",
              " PosixPath('Data/rice-image-dataset/Rice_Image_Dataset/Arborio/Arborio (10024).jpg'),\n",
              " PosixPath('Data/rice-image-dataset/Rice_Image_Dataset/Arborio/Arborio (10025).jpg'),\n",
              " PosixPath('Data/rice-image-dataset/Rice_Image_Dataset/Arborio/Arborio (10026).jpg'),\n",
              " PosixPath('Data/rice-image-dataset/Rice_Image_Dataset/Arborio/Arborio (10027).jpg'),\n",
              " PosixPath('Data/rice-image-dataset/Rice_Image_Dataset/Arborio/Arborio (10028).jpg'),\n",
              " PosixPath('Data/rice-image-dataset/Rice_Image_Dataset/Arborio/Arborio (10029).jpg'),\n",
              " PosixPath('Data/rice-image-dataset/Rice_Image_Dataset/Arborio/Arborio (1003).jpg'),\n",
              " PosixPath('Data/rice-image-dataset/Rice_Image_Dataset/Arborio/Arborio (10030).jpg'),\n",
              " PosixPath('Data/rice-image-dataset/Rice_Image_Dataset/Arborio/Arborio (10031).jpg'),\n",
              " PosixPath('Data/rice-image-dataset/Rice_Image_Dataset/Arborio/Arborio (10032).jpg'),\n",
              " PosixPath('Data/rice-image-dataset/Rice_Image_Dataset/Arborio/Arborio (10033).jpg'),\n",
              " PosixPath('Data/rice-image-dataset/Rice_Image_Dataset/Arborio/Arborio (10034).jpg'),\n",
              " PosixPath('Data/rice-image-dataset/Rice_Image_Dataset/Arborio/Arborio (10035).jpg'),\n",
              " PosixPath('Data/rice-image-dataset/Rice_Image_Dataset/Arborio/Arborio (10036).jpg'),\n",
              " PosixPath('Data/rice-image-dataset/Rice_Image_Dataset/Arborio/Arborio (10037).jpg'),\n",
              " PosixPath('Data/rice-image-dataset/Rice_Image_Dataset/Arborio/Arborio (10038).jpg'),\n",
              " PosixPath('Data/rice-image-dataset/Rice_Image_Dataset/Arborio/Arborio (10039).jpg'),\n",
              " PosixPath('Data/rice-image-dataset/Rice_Image_Dataset/Arborio/Arborio (1004).jpg'),\n",
              " PosixPath('Data/rice-image-dataset/Rice_Image_Dataset/Arborio/Arborio (10040).jpg'),\n",
              " PosixPath('Data/rice-image-dataset/Rice_Image_Dataset/Arborio/Arborio (10041).jpg'),\n",
              " PosixPath('Data/rice-image-dataset/Rice_Image_Dataset/Arborio/Arborio (10042).jpg'),\n",
              " PosixPath('Data/rice-image-dataset/Rice_Image_Dataset/Arborio/Arborio (10043).jpg'),\n",
              " PosixPath('Data/rice-image-dataset/Rice_Image_Dataset/Arborio/Arborio (10044).jpg'),\n",
              " PosixPath('Data/rice-image-dataset/Rice_Image_Dataset/Arborio/Arborio (10045).jpg'),\n",
              " PosixPath('Data/rice-image-dataset/Rice_Image_Dataset/Arborio/Arborio (10046).jpg'),\n",
              " PosixPath('Data/rice-image-dataset/Rice_Image_Dataset/Arborio/Arborio (10047).jpg'),\n",
              " PosixPath('Data/rice-image-dataset/Rice_Image_Dataset/Arborio/Arborio (10048).jpg'),\n",
              " PosixPath('Data/rice-image-dataset/Rice_Image_Dataset/Arborio/Arborio (10049).jpg'),\n",
              " PosixPath('Data/rice-image-dataset/Rice_Image_Dataset/Arborio/Arborio (1005).jpg'),\n",
              " PosixPath('Data/rice-image-dataset/Rice_Image_Dataset/Arborio/Arborio (10050).jpg'),\n",
              " PosixPath('Data/rice-image-dataset/Rice_Image_Dataset/Arborio/Arborio (10051).jpg'),\n",
              " PosixPath('Data/rice-image-dataset/Rice_Image_Dataset/Arborio/Arborio (10052).jpg'),\n",
              " PosixPath('Data/rice-image-dataset/Rice_Image_Dataset/Arborio/Arborio (10053).jpg'),\n",
              " PosixPath('Data/rice-image-dataset/Rice_Image_Dataset/Arborio/Arborio (10054).jpg'),\n",
              " PosixPath('Data/rice-image-dataset/Rice_Image_Dataset/Arborio/Arborio (10055).jpg'),\n",
              " PosixPath('Data/rice-image-dataset/Rice_Image_Dataset/Arborio/Arborio (10056).jpg'),\n",
              " PosixPath('Data/rice-image-dataset/Rice_Image_Dataset/Arborio/Arborio (10057).jpg'),\n",
              " PosixPath('Data/rice-image-dataset/Rice_Image_Dataset/Arborio/Arborio (10058).jpg'),\n",
              " PosixPath('Data/rice-image-dataset/Rice_Image_Dataset/Arborio/Arborio (10059).jpg'),\n",
              " PosixPath('Data/rice-image-dataset/Rice_Image_Dataset/Arborio/Arborio (1006).jpg'),\n",
              " PosixPath('Data/rice-image-dataset/Rice_Image_Dataset/Arborio/Arborio (10060).jpg'),\n",
              " PosixPath('Data/rice-image-dataset/Rice_Image_Dataset/Arborio/Arborio (10061).jpg'),\n",
              " PosixPath('Data/rice-image-dataset/Rice_Image_Dataset/Arborio/Arborio (10062).jpg'),\n",
              " PosixPath('Data/rice-image-dataset/Rice_Image_Dataset/Arborio/Arborio (10063).jpg'),\n",
              " PosixPath('Data/rice-image-dataset/Rice_Image_Dataset/Arborio/Arborio (10064).jpg'),\n",
              " PosixPath('Data/rice-image-dataset/Rice_Image_Dataset/Arborio/Arborio (10065).jpg'),\n",
              " PosixPath('Data/rice-image-dataset/Rice_Image_Dataset/Arborio/Arborio (10066).jpg'),\n",
              " PosixPath('Data/rice-image-dataset/Rice_Image_Dataset/Arborio/Arborio (10067).jpg'),\n",
              " PosixPath('Data/rice-image-dataset/Rice_Image_Dataset/Arborio/Arborio (10068).jpg'),\n",
              " PosixPath('Data/rice-image-dataset/Rice_Image_Dataset/Arborio/Arborio (10069).jpg'),\n",
              " PosixPath('Data/rice-image-dataset/Rice_Image_Dataset/Arborio/Arborio (1007).jpg'),\n",
              " PosixPath('Data/rice-image-dataset/Rice_Image_Dataset/Arborio/Arborio (10070).jpg'),\n",
              " PosixPath('Data/rice-image-dataset/Rice_Image_Dataset/Arborio/Arborio (10071).jpg'),\n",
              " PosixPath('Data/rice-image-dataset/Rice_Image_Dataset/Arborio/Arborio (10072).jpg'),\n",
              " PosixPath('Data/rice-image-dataset/Rice_Image_Dataset/Arborio/Arborio (10073).jpg'),\n",
              " PosixPath('Data/rice-image-dataset/Rice_Image_Dataset/Arborio/Arborio (10074).jpg'),\n",
              " PosixPath('Data/rice-image-dataset/Rice_Image_Dataset/Arborio/Arborio (10075).jpg'),\n",
              " PosixPath('Data/rice-image-dataset/Rice_Image_Dataset/Arborio/Arborio (10076).jpg'),\n",
              " PosixPath('Data/rice-image-dataset/Rice_Image_Dataset/Arborio/Arborio (10077).jpg'),\n",
              " PosixPath('Data/rice-image-dataset/Rice_Image_Dataset/Arborio/Arborio (10078).jpg'),\n",
              " PosixPath('Data/rice-image-dataset/Rice_Image_Dataset/Arborio/Arborio (10079).jpg'),\n",
              " PosixPath('Data/rice-image-dataset/Rice_Image_Dataset/Arborio/Arborio (1008).jpg'),\n",
              " PosixPath('Data/rice-image-dataset/Rice_Image_Dataset/Arborio/Arborio (10080).jpg'),\n",
              " PosixPath('Data/rice-image-dataset/Rice_Image_Dataset/Arborio/Arborio (10081).jpg'),\n",
              " PosixPath('Data/rice-image-dataset/Rice_Image_Dataset/Arborio/Arborio (10082).jpg'),\n",
              " PosixPath('Data/rice-image-dataset/Rice_Image_Dataset/Arborio/Arborio (10083).jpg'),\n",
              " PosixPath('Data/rice-image-dataset/Rice_Image_Dataset/Arborio/Arborio (10084).jpg'),\n",
              " PosixPath('Data/rice-image-dataset/Rice_Image_Dataset/Arborio/Arborio (10085).jpg'),\n",
              " PosixPath('Data/rice-image-dataset/Rice_Image_Dataset/Arborio/Arborio (10086).jpg'),\n",
              " PosixPath('Data/rice-image-dataset/Rice_Image_Dataset/Arborio/Arborio (10087).jpg'),\n",
              " PosixPath('Data/rice-image-dataset/Rice_Image_Dataset/Arborio/Arborio (10088).jpg'),\n",
              " PosixPath('Data/rice-image-dataset/Rice_Image_Dataset/Arborio/Arborio (10089).jpg'),\n",
              " PosixPath('Data/rice-image-dataset/Rice_Image_Dataset/Arborio/Arborio (1009).jpg'),\n",
              " PosixPath('Data/rice-image-dataset/Rice_Image_Dataset/Arborio/Arborio (10090).jpg'),\n",
              " PosixPath('Data/rice-image-dataset/Rice_Image_Dataset/Arborio/Arborio (10091).jpg'),\n",
              " PosixPath('Data/rice-image-dataset/Rice_Image_Dataset/Arborio/Arborio (10092).jpg'),\n",
              " PosixPath('Data/rice-image-dataset/Rice_Image_Dataset/Arborio/Arborio (10093).jpg'),\n",
              " PosixPath('Data/rice-image-dataset/Rice_Image_Dataset/Arborio/Arborio (10094).jpg'),\n",
              " PosixPath('Data/rice-image-dataset/Rice_Image_Dataset/Arborio/Arborio (10095).jpg'),\n",
              " PosixPath('Data/rice-image-dataset/Rice_Image_Dataset/Arborio/Arborio (10096).jpg'),\n",
              " PosixPath('Data/rice-image-dataset/Rice_Image_Dataset/Arborio/Arborio (10097).jpg'),\n",
              " PosixPath('Data/rice-image-dataset/Rice_Image_Dataset/Arborio/Arborio (10098).jpg'),\n",
              " PosixPath('Data/rice-image-dataset/Rice_Image_Dataset/Arborio/Arborio (10099).jpg'),\n",
              " PosixPath('Data/rice-image-dataset/Rice_Image_Dataset/Arborio/Arborio (101).jpg'),\n",
              " PosixPath('Data/rice-image-dataset/Rice_Image_Dataset/Arborio/Arborio (1010).jpg'),\n",
              " PosixPath('Data/rice-image-dataset/Rice_Image_Dataset/Arborio/Arborio (10100).jpg'),\n",
              " PosixPath('Data/rice-image-dataset/Rice_Image_Dataset/Arborio/Arborio (10101).jpg'),\n",
              " PosixPath('Data/rice-image-dataset/Rice_Image_Dataset/Arborio/Arborio (10102).jpg'),\n",
              " PosixPath('Data/rice-image-dataset/Rice_Image_Dataset/Arborio/Arborio (10103).jpg'),\n",
              " PosixPath('Data/rice-image-dataset/Rice_Image_Dataset/Arborio/Arborio (10104).jpg'),\n",
              " PosixPath('Data/rice-image-dataset/Rice_Image_Dataset/Arborio/Arborio (10105).jpg'),\n",
              " PosixPath('Data/rice-image-dataset/Rice_Image_Dataset/Arborio/Arborio (10106).jpg'),\n",
              " PosixPath('Data/rice-image-dataset/Rice_Image_Dataset/Arborio/Arborio (10107).jpg'),\n",
              " PosixPath('Data/rice-image-dataset/Rice_Image_Dataset/Arborio/Arborio (10108).jpg'),\n",
              " PosixPath('Data/rice-image-dataset/Rice_Image_Dataset/Arborio/Arborio (10109).jpg'),\n",
              " PosixPath('Data/rice-image-dataset/Rice_Image_Dataset/Arborio/Arborio (1011).jpg'),\n",
              " PosixPath('Data/rice-image-dataset/Rice_Image_Dataset/Arborio/Arborio (10110).jpg'),\n",
              " PosixPath('Data/rice-image-dataset/Rice_Image_Dataset/Arborio/Arborio (10111).jpg'),\n",
              " PosixPath('Data/rice-image-dataset/Rice_Image_Dataset/Arborio/Arborio (10112).jpg'),\n",
              " PosixPath('Data/rice-image-dataset/Rice_Image_Dataset/Arborio/Arborio (10113).jpg'),\n",
              " PosixPath('Data/rice-image-dataset/Rice_Image_Dataset/Arborio/Arborio (10114).jpg'),\n",
              " PosixPath('Data/rice-image-dataset/Rice_Image_Dataset/Arborio/Arborio (10115).jpg'),\n",
              " PosixPath('Data/rice-image-dataset/Rice_Image_Dataset/Arborio/Arborio (10116).jpg'),\n",
              " PosixPath('Data/rice-image-dataset/Rice_Image_Dataset/Arborio/Arborio (10117).jpg'),\n",
              " PosixPath('Data/rice-image-dataset/Rice_Image_Dataset/Arborio/Arborio (10118).jpg'),\n",
              " PosixPath('Data/rice-image-dataset/Rice_Image_Dataset/Arborio/Arborio (10119).jpg'),\n",
              " PosixPath('Data/rice-image-dataset/Rice_Image_Dataset/Arborio/Arborio (1012).jpg'),\n",
              " PosixPath('Data/rice-image-dataset/Rice_Image_Dataset/Arborio/Arborio (10120).jpg'),\n",
              " PosixPath('Data/rice-image-dataset/Rice_Image_Dataset/Arborio/Arborio (10121).jpg'),\n",
              " PosixPath('Data/rice-image-dataset/Rice_Image_Dataset/Arborio/Arborio (10122).jpg'),\n",
              " PosixPath('Data/rice-image-dataset/Rice_Image_Dataset/Arborio/Arborio (10123).jpg'),\n",
              " PosixPath('Data/rice-image-dataset/Rice_Image_Dataset/Arborio/Arborio (10124).jpg'),\n",
              " PosixPath('Data/rice-image-dataset/Rice_Image_Dataset/Arborio/Arborio (10125).jpg'),\n",
              " PosixPath('Data/rice-image-dataset/Rice_Image_Dataset/Arborio/Arborio (10126).jpg'),\n",
              " PosixPath('Data/rice-image-dataset/Rice_Image_Dataset/Arborio/Arborio (10127).jpg'),\n",
              " PosixPath('Data/rice-image-dataset/Rice_Image_Dataset/Arborio/Arborio (10128).jpg'),\n",
              " PosixPath('Data/rice-image-dataset/Rice_Image_Dataset/Arborio/Arborio (10129).jpg'),\n",
              " PosixPath('Data/rice-image-dataset/Rice_Image_Dataset/Arborio/Arborio (1013).jpg'),\n",
              " PosixPath('Data/rice-image-dataset/Rice_Image_Dataset/Arborio/Arborio (10130).jpg'),\n",
              " PosixPath('Data/rice-image-dataset/Rice_Image_Dataset/Arborio/Arborio (10131).jpg'),\n",
              " PosixPath('Data/rice-image-dataset/Rice_Image_Dataset/Arborio/Arborio (10132).jpg'),\n",
              " PosixPath('Data/rice-image-dataset/Rice_Image_Dataset/Arborio/Arborio (10133).jpg'),\n",
              " PosixPath('Data/rice-image-dataset/Rice_Image_Dataset/Arborio/Arborio (10134).jpg'),\n",
              " PosixPath('Data/rice-image-dataset/Rice_Image_Dataset/Arborio/Arborio (10135).jpg'),\n",
              " PosixPath('Data/rice-image-dataset/Rice_Image_Dataset/Arborio/Arborio (10136).jpg'),\n",
              " PosixPath('Data/rice-image-dataset/Rice_Image_Dataset/Arborio/Arborio (10137).jpg'),\n",
              " PosixPath('Data/rice-image-dataset/Rice_Image_Dataset/Arborio/Arborio (10138).jpg'),\n",
              " PosixPath('Data/rice-image-dataset/Rice_Image_Dataset/Arborio/Arborio (10139).jpg'),\n",
              " PosixPath('Data/rice-image-dataset/Rice_Image_Dataset/Arborio/Arborio (1014).jpg'),\n",
              " PosixPath('Data/rice-image-dataset/Rice_Image_Dataset/Arborio/Arborio (10140).jpg'),\n",
              " PosixPath('Data/rice-image-dataset/Rice_Image_Dataset/Arborio/Arborio (10141).jpg'),\n",
              " PosixPath('Data/rice-image-dataset/Rice_Image_Dataset/Arborio/Arborio (10142).jpg'),\n",
              " PosixPath('Data/rice-image-dataset/Rice_Image_Dataset/Arborio/Arborio (10143).jpg'),\n",
              " PosixPath('Data/rice-image-dataset/Rice_Image_Dataset/Arborio/Arborio (10144).jpg'),\n",
              " PosixPath('Data/rice-image-dataset/Rice_Image_Dataset/Arborio/Arborio (10145).jpg'),\n",
              " PosixPath('Data/rice-image-dataset/Rice_Image_Dataset/Arborio/Arborio (10146).jpg'),\n",
              " PosixPath('Data/rice-image-dataset/Rice_Image_Dataset/Arborio/Arborio (10147).jpg'),\n",
              " PosixPath('Data/rice-image-dataset/Rice_Image_Dataset/Arborio/Arborio (10148).jpg'),\n",
              " PosixPath('Data/rice-image-dataset/Rice_Image_Dataset/Arborio/Arborio (10149).jpg'),\n",
              " PosixPath('Data/rice-image-dataset/Rice_Image_Dataset/Arborio/Arborio (1015).jpg'),\n",
              " PosixPath('Data/rice-image-dataset/Rice_Image_Dataset/Arborio/Arborio (10150).jpg'),\n",
              " PosixPath('Data/rice-image-dataset/Rice_Image_Dataset/Arborio/Arborio (10151).jpg'),\n",
              " PosixPath('Data/rice-image-dataset/Rice_Image_Dataset/Arborio/Arborio (10152).jpg'),\n",
              " PosixPath('Data/rice-image-dataset/Rice_Image_Dataset/Arborio/Arborio (10153).jpg'),\n",
              " PosixPath('Data/rice-image-dataset/Rice_Image_Dataset/Arborio/Arborio (10154).jpg'),\n",
              " PosixPath('Data/rice-image-dataset/Rice_Image_Dataset/Arborio/Arborio (10155).jpg'),\n",
              " PosixPath('Data/rice-image-dataset/Rice_Image_Dataset/Arborio/Arborio (10156).jpg'),\n",
              " PosixPath('Data/rice-image-dataset/Rice_Image_Dataset/Arborio/Arborio (10157).jpg'),\n",
              " PosixPath('Data/rice-image-dataset/Rice_Image_Dataset/Arborio/Arborio (10158).jpg'),\n",
              " PosixPath('Data/rice-image-dataset/Rice_Image_Dataset/Arborio/Arborio (10159).jpg'),\n",
              " PosixPath('Data/rice-image-dataset/Rice_Image_Dataset/Arborio/Arborio (1016).jpg'),\n",
              " PosixPath('Data/rice-image-dataset/Rice_Image_Dataset/Arborio/Arborio (10160).jpg'),\n",
              " PosixPath('Data/rice-image-dataset/Rice_Image_Dataset/Arborio/Arborio (10161).jpg'),\n",
              " PosixPath('Data/rice-image-dataset/Rice_Image_Dataset/Arborio/Arborio (10162).jpg'),\n",
              " PosixPath('Data/rice-image-dataset/Rice_Image_Dataset/Arborio/Arborio (10163).jpg'),\n",
              " PosixPath('Data/rice-image-dataset/Rice_Image_Dataset/Arborio/Arborio (10164).jpg'),\n",
              " PosixPath('Data/rice-image-dataset/Rice_Image_Dataset/Arborio/Arborio (10165).jpg'),\n",
              " PosixPath('Data/rice-image-dataset/Rice_Image_Dataset/Arborio/Arborio (10166).jpg'),\n",
              " PosixPath('Data/rice-image-dataset/Rice_Image_Dataset/Arborio/Arborio (10167).jpg'),\n",
              " PosixPath('Data/rice-image-dataset/Rice_Image_Dataset/Arborio/Arborio (10168).jpg'),\n",
              " PosixPath('Data/rice-image-dataset/Rice_Image_Dataset/Arborio/Arborio (10169).jpg'),\n",
              " PosixPath('Data/rice-image-dataset/Rice_Image_Dataset/Arborio/Arborio (1017).jpg'),\n",
              " PosixPath('Data/rice-image-dataset/Rice_Image_Dataset/Arborio/Arborio (10170).jpg'),\n",
              " PosixPath('Data/rice-image-dataset/Rice_Image_Dataset/Arborio/Arborio (10171).jpg'),\n",
              " PosixPath('Data/rice-image-dataset/Rice_Image_Dataset/Arborio/Arborio (10172).jpg'),\n",
              " PosixPath('Data/rice-image-dataset/Rice_Image_Dataset/Arborio/Arborio (10173).jpg'),\n",
              " PosixPath('Data/rice-image-dataset/Rice_Image_Dataset/Arborio/Arborio (10174).jpg'),\n",
              " PosixPath('Data/rice-image-dataset/Rice_Image_Dataset/Arborio/Arborio (10175).jpg'),\n",
              " PosixPath('Data/rice-image-dataset/Rice_Image_Dataset/Arborio/Arborio (10176).jpg'),\n",
              " PosixPath('Data/rice-image-dataset/Rice_Image_Dataset/Arborio/Arborio (10177).jpg'),\n",
              " PosixPath('Data/rice-image-dataset/Rice_Image_Dataset/Arborio/Arborio (10178).jpg'),\n",
              " PosixPath('Data/rice-image-dataset/Rice_Image_Dataset/Arborio/Arborio (10179).jpg'),\n",
              " PosixPath('Data/rice-image-dataset/Rice_Image_Dataset/Arborio/Arborio (1018).jpg'),\n",
              " PosixPath('Data/rice-image-dataset/Rice_Image_Dataset/Arborio/Arborio (10180).jpg'),\n",
              " PosixPath('Data/rice-image-dataset/Rice_Image_Dataset/Arborio/Arborio (10181).jpg'),\n",
              " PosixPath('Data/rice-image-dataset/Rice_Image_Dataset/Arborio/Arborio (10182).jpg'),\n",
              " PosixPath('Data/rice-image-dataset/Rice_Image_Dataset/Arborio/Arborio (10183).jpg'),\n",
              " PosixPath('Data/rice-image-dataset/Rice_Image_Dataset/Arborio/Arborio (10184).jpg'),\n",
              " PosixPath('Data/rice-image-dataset/Rice_Image_Dataset/Arborio/Arborio (10185).jpg'),\n",
              " PosixPath('Data/rice-image-dataset/Rice_Image_Dataset/Arborio/Arborio (10186).jpg'),\n",
              " PosixPath('Data/rice-image-dataset/Rice_Image_Dataset/Arborio/Arborio (10187).jpg'),\n",
              " PosixPath('Data/rice-image-dataset/Rice_Image_Dataset/Arborio/Arborio (10188).jpg'),\n",
              " PosixPath('Data/rice-image-dataset/Rice_Image_Dataset/Arborio/Arborio (10189).jpg'),\n",
              " PosixPath('Data/rice-image-dataset/Rice_Image_Dataset/Arborio/Arborio (1019).jpg'),\n",
              " PosixPath('Data/rice-image-dataset/Rice_Image_Dataset/Arborio/Arborio (10190).jpg'),\n",
              " PosixPath('Data/rice-image-dataset/Rice_Image_Dataset/Arborio/Arborio (10191).jpg'),\n",
              " PosixPath('Data/rice-image-dataset/Rice_Image_Dataset/Arborio/Arborio (10192).jpg'),\n",
              " PosixPath('Data/rice-image-dataset/Rice_Image_Dataset/Arborio/Arborio (10193).jpg'),\n",
              " PosixPath('Data/rice-image-dataset/Rice_Image_Dataset/Arborio/Arborio (10194).jpg'),\n",
              " PosixPath('Data/rice-image-dataset/Rice_Image_Dataset/Arborio/Arborio (10195).jpg'),\n",
              " PosixPath('Data/rice-image-dataset/Rice_Image_Dataset/Arborio/Arborio (10196).jpg'),\n",
              " PosixPath('Data/rice-image-dataset/Rice_Image_Dataset/Arborio/Arborio (10197).jpg'),\n",
              " PosixPath('Data/rice-image-dataset/Rice_Image_Dataset/Arborio/Arborio (10198).jpg'),\n",
              " PosixPath('Data/rice-image-dataset/Rice_Image_Dataset/Arborio/Arborio (10199).jpg'),\n",
              " PosixPath('Data/rice-image-dataset/Rice_Image_Dataset/Arborio/Arborio (102).jpg'),\n",
              " PosixPath('Data/rice-image-dataset/Rice_Image_Dataset/Arborio/Arborio (1020).jpg'),\n",
              " PosixPath('Data/rice-image-dataset/Rice_Image_Dataset/Arborio/Arborio (10200).jpg'),\n",
              " PosixPath('Data/rice-image-dataset/Rice_Image_Dataset/Arborio/Arborio (10201).jpg'),\n",
              " PosixPath('Data/rice-image-dataset/Rice_Image_Dataset/Arborio/Arborio (10202).jpg'),\n",
              " PosixPath('Data/rice-image-dataset/Rice_Image_Dataset/Arborio/Arborio (10203).jpg'),\n",
              " PosixPath('Data/rice-image-dataset/Rice_Image_Dataset/Arborio/Arborio (10204).jpg'),\n",
              " PosixPath('Data/rice-image-dataset/Rice_Image_Dataset/Arborio/Arborio (10205).jpg'),\n",
              " PosixPath('Data/rice-image-dataset/Rice_Image_Dataset/Arborio/Arborio (10206).jpg'),\n",
              " PosixPath('Data/rice-image-dataset/Rice_Image_Dataset/Arborio/Arborio (10207).jpg'),\n",
              " PosixPath('Data/rice-image-dataset/Rice_Image_Dataset/Arborio/Arborio (10208).jpg'),\n",
              " PosixPath('Data/rice-image-dataset/Rice_Image_Dataset/Arborio/Arborio (10209).jpg'),\n",
              " PosixPath('Data/rice-image-dataset/Rice_Image_Dataset/Arborio/Arborio (1021).jpg'),\n",
              " PosixPath('Data/rice-image-dataset/Rice_Image_Dataset/Arborio/Arborio (10210).jpg'),\n",
              " PosixPath('Data/rice-image-dataset/Rice_Image_Dataset/Arborio/Arborio (10211).jpg'),\n",
              " PosixPath('Data/rice-image-dataset/Rice_Image_Dataset/Arborio/Arborio (10212).jpg'),\n",
              " PosixPath('Data/rice-image-dataset/Rice_Image_Dataset/Arborio/Arborio (10213).jpg'),\n",
              " PosixPath('Data/rice-image-dataset/Rice_Image_Dataset/Arborio/Arborio (10214).jpg'),\n",
              " PosixPath('Data/rice-image-dataset/Rice_Image_Dataset/Arborio/Arborio (10215).jpg'),\n",
              " PosixPath('Data/rice-image-dataset/Rice_Image_Dataset/Arborio/Arborio (10216).jpg'),\n",
              " PosixPath('Data/rice-image-dataset/Rice_Image_Dataset/Arborio/Arborio (10217).jpg'),\n",
              " PosixPath('Data/rice-image-dataset/Rice_Image_Dataset/Arborio/Arborio (10218).jpg'),\n",
              " PosixPath('Data/rice-image-dataset/Rice_Image_Dataset/Arborio/Arborio (10219).jpg'),\n",
              " PosixPath('Data/rice-image-dataset/Rice_Image_Dataset/Arborio/Arborio (1022).jpg'),\n",
              " PosixPath('Data/rice-image-dataset/Rice_Image_Dataset/Arborio/Arborio (10220).jpg'),\n",
              " PosixPath('Data/rice-image-dataset/Rice_Image_Dataset/Arborio/Arborio (10221).jpg'),\n",
              " PosixPath('Data/rice-image-dataset/Rice_Image_Dataset/Arborio/Arborio (10222).jpg'),\n",
              " PosixPath('Data/rice-image-dataset/Rice_Image_Dataset/Arborio/Arborio (10223).jpg'),\n",
              " PosixPath('Data/rice-image-dataset/Rice_Image_Dataset/Arborio/Arborio (10224).jpg'),\n",
              " PosixPath('Data/rice-image-dataset/Rice_Image_Dataset/Arborio/Arborio (10225).jpg'),\n",
              " PosixPath('Data/rice-image-dataset/Rice_Image_Dataset/Arborio/Arborio (10226).jpg'),\n",
              " PosixPath('Data/rice-image-dataset/Rice_Image_Dataset/Arborio/Arborio (10227).jpg'),\n",
              " PosixPath('Data/rice-image-dataset/Rice_Image_Dataset/Arborio/Arborio (10228).jpg'),\n",
              " PosixPath('Data/rice-image-dataset/Rice_Image_Dataset/Arborio/Arborio (10229).jpg'),\n",
              " PosixPath('Data/rice-image-dataset/Rice_Image_Dataset/Arborio/Arborio (1023).jpg'),\n",
              " PosixPath('Data/rice-image-dataset/Rice_Image_Dataset/Arborio/Arborio (10230).jpg'),\n",
              " PosixPath('Data/rice-image-dataset/Rice_Image_Dataset/Arborio/Arborio (10231).jpg'),\n",
              " PosixPath('Data/rice-image-dataset/Rice_Image_Dataset/Arborio/Arborio (10232).jpg'),\n",
              " PosixPath('Data/rice-image-dataset/Rice_Image_Dataset/Arborio/Arborio (10233).jpg'),\n",
              " PosixPath('Data/rice-image-dataset/Rice_Image_Dataset/Arborio/Arborio (10234).jpg'),\n",
              " PosixPath('Data/rice-image-dataset/Rice_Image_Dataset/Arborio/Arborio (10235).jpg'),\n",
              " PosixPath('Data/rice-image-dataset/Rice_Image_Dataset/Arborio/Arborio (10236).jpg'),\n",
              " PosixPath('Data/rice-image-dataset/Rice_Image_Dataset/Arborio/Arborio (10237).jpg'),\n",
              " PosixPath('Data/rice-image-dataset/Rice_Image_Dataset/Arborio/Arborio (10238).jpg'),\n",
              " PosixPath('Data/rice-image-dataset/Rice_Image_Dataset/Arborio/Arborio (10239).jpg'),\n",
              " PosixPath('Data/rice-image-dataset/Rice_Image_Dataset/Arborio/Arborio (1024).jpg'),\n",
              " PosixPath('Data/rice-image-dataset/Rice_Image_Dataset/Arborio/Arborio (10240).jpg'),\n",
              " PosixPath('Data/rice-image-dataset/Rice_Image_Dataset/Arborio/Arborio (10241).jpg'),\n",
              " PosixPath('Data/rice-image-dataset/Rice_Image_Dataset/Arborio/Arborio (10242).jpg'),\n",
              " PosixPath('Data/rice-image-dataset/Rice_Image_Dataset/Arborio/Arborio (10243).jpg'),\n",
              " PosixPath('Data/rice-image-dataset/Rice_Image_Dataset/Arborio/Arborio (10244).jpg'),\n",
              " PosixPath('Data/rice-image-dataset/Rice_Image_Dataset/Arborio/Arborio (10245).jpg'),\n",
              " PosixPath('Data/rice-image-dataset/Rice_Image_Dataset/Arborio/Arborio (10246).jpg'),\n",
              " PosixPath('Data/rice-image-dataset/Rice_Image_Dataset/Arborio/Arborio (10247).jpg'),\n",
              " PosixPath('Data/rice-image-dataset/Rice_Image_Dataset/Arborio/Arborio (10248).jpg'),\n",
              " PosixPath('Data/rice-image-dataset/Rice_Image_Dataset/Arborio/Arborio (10249).jpg'),\n",
              " PosixPath('Data/rice-image-dataset/Rice_Image_Dataset/Arborio/Arborio (1025).jpg'),\n",
              " PosixPath('Data/rice-image-dataset/Rice_Image_Dataset/Arborio/Arborio (10250).jpg'),\n",
              " PosixPath('Data/rice-image-dataset/Rice_Image_Dataset/Arborio/Arborio (10251).jpg'),\n",
              " PosixPath('Data/rice-image-dataset/Rice_Image_Dataset/Arborio/Arborio (10252).jpg'),\n",
              " PosixPath('Data/rice-image-dataset/Rice_Image_Dataset/Arborio/Arborio (10253).jpg'),\n",
              " PosixPath('Data/rice-image-dataset/Rice_Image_Dataset/Arborio/Arborio (10254).jpg'),\n",
              " PosixPath('Data/rice-image-dataset/Rice_Image_Dataset/Arborio/Arborio (10255).jpg'),\n",
              " PosixPath('Data/rice-image-dataset/Rice_Image_Dataset/Arborio/Arborio (10256).jpg'),\n",
              " PosixPath('Data/rice-image-dataset/Rice_Image_Dataset/Arborio/Arborio (10257).jpg'),\n",
              " PosixPath('Data/rice-image-dataset/Rice_Image_Dataset/Arborio/Arborio (10258).jpg'),\n",
              " PosixPath('Data/rice-image-dataset/Rice_Image_Dataset/Arborio/Arborio (10259).jpg'),\n",
              " PosixPath('Data/rice-image-dataset/Rice_Image_Dataset/Arborio/Arborio (1026).jpg'),\n",
              " PosixPath('Data/rice-image-dataset/Rice_Image_Dataset/Arborio/Arborio (10260).jpg'),\n",
              " PosixPath('Data/rice-image-dataset/Rice_Image_Dataset/Arborio/Arborio (10261).jpg'),\n",
              " PosixPath('Data/rice-image-dataset/Rice_Image_Dataset/Arborio/Arborio (10262).jpg'),\n",
              " PosixPath('Data/rice-image-dataset/Rice_Image_Dataset/Arborio/Arborio (10263).jpg'),\n",
              " PosixPath('Data/rice-image-dataset/Rice_Image_Dataset/Arborio/Arborio (10264).jpg'),\n",
              " PosixPath('Data/rice-image-dataset/Rice_Image_Dataset/Arborio/Arborio (10265).jpg'),\n",
              " PosixPath('Data/rice-image-dataset/Rice_Image_Dataset/Arborio/Arborio (10266).jpg'),\n",
              " PosixPath('Data/rice-image-dataset/Rice_Image_Dataset/Arborio/Arborio (10267).jpg'),\n",
              " PosixPath('Data/rice-image-dataset/Rice_Image_Dataset/Arborio/Arborio (10268).jpg'),\n",
              " PosixPath('Data/rice-image-dataset/Rice_Image_Dataset/Arborio/Arborio (10269).jpg'),\n",
              " PosixPath('Data/rice-image-dataset/Rice_Image_Dataset/Arborio/Arborio (1027).jpg'),\n",
              " PosixPath('Data/rice-image-dataset/Rice_Image_Dataset/Arborio/Arborio (10270).jpg'),\n",
              " PosixPath('Data/rice-image-dataset/Rice_Image_Dataset/Arborio/Arborio (10271).jpg'),\n",
              " PosixPath('Data/rice-image-dataset/Rice_Image_Dataset/Arborio/Arborio (10272).jpg'),\n",
              " PosixPath('Data/rice-image-dataset/Rice_Image_Dataset/Arborio/Arborio (10273).jpg'),\n",
              " PosixPath('Data/rice-image-dataset/Rice_Image_Dataset/Arborio/Arborio (10274).jpg'),\n",
              " PosixPath('Data/rice-image-dataset/Rice_Image_Dataset/Arborio/Arborio (10275).jpg'),\n",
              " PosixPath('Data/rice-image-dataset/Rice_Image_Dataset/Arborio/Arborio (10276).jpg'),\n",
              " PosixPath('Data/rice-image-dataset/Rice_Image_Dataset/Arborio/Arborio (10277).jpg'),\n",
              " PosixPath('Data/rice-image-dataset/Rice_Image_Dataset/Arborio/Arborio (10278).jpg'),\n",
              " PosixPath('Data/rice-image-dataset/Rice_Image_Dataset/Arborio/Arborio (10279).jpg'),\n",
              " PosixPath('Data/rice-image-dataset/Rice_Image_Dataset/Arborio/Arborio (1028).jpg'),\n",
              " PosixPath('Data/rice-image-dataset/Rice_Image_Dataset/Arborio/Arborio (10280).jpg'),\n",
              " PosixPath('Data/rice-image-dataset/Rice_Image_Dataset/Arborio/Arborio (10281).jpg'),\n",
              " PosixPath('Data/rice-image-dataset/Rice_Image_Dataset/Arborio/Arborio (10282).jpg'),\n",
              " PosixPath('Data/rice-image-dataset/Rice_Image_Dataset/Arborio/Arborio (10283).jpg'),\n",
              " PosixPath('Data/rice-image-dataset/Rice_Image_Dataset/Arborio/Arborio (10284).jpg'),\n",
              " PosixPath('Data/rice-image-dataset/Rice_Image_Dataset/Arborio/Arborio (10285).jpg'),\n",
              " PosixPath('Data/rice-image-dataset/Rice_Image_Dataset/Arborio/Arborio (10286).jpg'),\n",
              " PosixPath('Data/rice-image-dataset/Rice_Image_Dataset/Arborio/Arborio (10287).jpg'),\n",
              " PosixPath('Data/rice-image-dataset/Rice_Image_Dataset/Arborio/Arborio (10288).jpg'),\n",
              " PosixPath('Data/rice-image-dataset/Rice_Image_Dataset/Arborio/Arborio (10289).jpg'),\n",
              " PosixPath('Data/rice-image-dataset/Rice_Image_Dataset/Arborio/Arborio (1029).jpg'),\n",
              " PosixPath('Data/rice-image-dataset/Rice_Image_Dataset/Arborio/Arborio (10290).jpg'),\n",
              " PosixPath('Data/rice-image-dataset/Rice_Image_Dataset/Arborio/Arborio (10291).jpg'),\n",
              " PosixPath('Data/rice-image-dataset/Rice_Image_Dataset/Arborio/Arborio (10292).jpg'),\n",
              " PosixPath('Data/rice-image-dataset/Rice_Image_Dataset/Arborio/Arborio (10293).jpg'),\n",
              " PosixPath('Data/rice-image-dataset/Rice_Image_Dataset/Arborio/Arborio (10294).jpg'),\n",
              " PosixPath('Data/rice-image-dataset/Rice_Image_Dataset/Arborio/Arborio (10295).jpg'),\n",
              " PosixPath('Data/rice-image-dataset/Rice_Image_Dataset/Arborio/Arborio (10296).jpg'),\n",
              " PosixPath('Data/rice-image-dataset/Rice_Image_Dataset/Arborio/Arborio (10297).jpg'),\n",
              " PosixPath('Data/rice-image-dataset/Rice_Image_Dataset/Arborio/Arborio (10298).jpg'),\n",
              " PosixPath('Data/rice-image-dataset/Rice_Image_Dataset/Arborio/Arborio (10299).jpg'),\n",
              " PosixPath('Data/rice-image-dataset/Rice_Image_Dataset/Arborio/Arborio (103).jpg'),\n",
              " PosixPath('Data/rice-image-dataset/Rice_Image_Dataset/Arborio/Arborio (1030).jpg'),\n",
              " PosixPath('Data/rice-image-dataset/Rice_Image_Dataset/Arborio/Arborio (10300).jpg'),\n",
              " PosixPath('Data/rice-image-dataset/Rice_Image_Dataset/Arborio/Arborio (10301).jpg'),\n",
              " PosixPath('Data/rice-image-dataset/Rice_Image_Dataset/Arborio/Arborio (10302).jpg'),\n",
              " PosixPath('Data/rice-image-dataset/Rice_Image_Dataset/Arborio/Arborio (10303).jpg'),\n",
              " PosixPath('Data/rice-image-dataset/Rice_Image_Dataset/Arborio/Arborio (10304).jpg'),\n",
              " PosixPath('Data/rice-image-dataset/Rice_Image_Dataset/Arborio/Arborio (10305).jpg'),\n",
              " PosixPath('Data/rice-image-dataset/Rice_Image_Dataset/Arborio/Arborio (10306).jpg'),\n",
              " PosixPath('Data/rice-image-dataset/Rice_Image_Dataset/Arborio/Arborio (10307).jpg'),\n",
              " PosixPath('Data/rice-image-dataset/Rice_Image_Dataset/Arborio/Arborio (10308).jpg'),\n",
              " PosixPath('Data/rice-image-dataset/Rice_Image_Dataset/Arborio/Arborio (10309).jpg'),\n",
              " PosixPath('Data/rice-image-dataset/Rice_Image_Dataset/Arborio/Arborio (1031).jpg'),\n",
              " PosixPath('Data/rice-image-dataset/Rice_Image_Dataset/Arborio/Arborio (10310).jpg'),\n",
              " PosixPath('Data/rice-image-dataset/Rice_Image_Dataset/Arborio/Arborio (10311).jpg'),\n",
              " PosixPath('Data/rice-image-dataset/Rice_Image_Dataset/Arborio/Arborio (10312).jpg'),\n",
              " PosixPath('Data/rice-image-dataset/Rice_Image_Dataset/Arborio/Arborio (10313).jpg'),\n",
              " PosixPath('Data/rice-image-dataset/Rice_Image_Dataset/Arborio/Arborio (10314).jpg'),\n",
              " PosixPath('Data/rice-image-dataset/Rice_Image_Dataset/Arborio/Arborio (10315).jpg'),\n",
              " PosixPath('Data/rice-image-dataset/Rice_Image_Dataset/Arborio/Arborio (10316).jpg'),\n",
              " PosixPath('Data/rice-image-dataset/Rice_Image_Dataset/Arborio/Arborio (10317).jpg'),\n",
              " PosixPath('Data/rice-image-dataset/Rice_Image_Dataset/Arborio/Arborio (10318).jpg'),\n",
              " PosixPath('Data/rice-image-dataset/Rice_Image_Dataset/Arborio/Arborio (10319).jpg'),\n",
              " PosixPath('Data/rice-image-dataset/Rice_Image_Dataset/Arborio/Arborio (1032).jpg'),\n",
              " PosixPath('Data/rice-image-dataset/Rice_Image_Dataset/Arborio/Arborio (10320).jpg'),\n",
              " PosixPath('Data/rice-image-dataset/Rice_Image_Dataset/Arborio/Arborio (10321).jpg'),\n",
              " PosixPath('Data/rice-image-dataset/Rice_Image_Dataset/Arborio/Arborio (10322).jpg'),\n",
              " PosixPath('Data/rice-image-dataset/Rice_Image_Dataset/Arborio/Arborio (10323).jpg'),\n",
              " PosixPath('Data/rice-image-dataset/Rice_Image_Dataset/Arborio/Arborio (10324).jpg'),\n",
              " PosixPath('Data/rice-image-dataset/Rice_Image_Dataset/Arborio/Arborio (10325).jpg'),\n",
              " PosixPath('Data/rice-image-dataset/Rice_Image_Dataset/Arborio/Arborio (10326).jpg'),\n",
              " PosixPath('Data/rice-image-dataset/Rice_Image_Dataset/Arborio/Arborio (10327).jpg'),\n",
              " PosixPath('Data/rice-image-dataset/Rice_Image_Dataset/Arborio/Arborio (10328).jpg'),\n",
              " PosixPath('Data/rice-image-dataset/Rice_Image_Dataset/Arborio/Arborio (10329).jpg'),\n",
              " PosixPath('Data/rice-image-dataset/Rice_Image_Dataset/Arborio/Arborio (1033).jpg'),\n",
              " PosixPath('Data/rice-image-dataset/Rice_Image_Dataset/Arborio/Arborio (10330).jpg'),\n",
              " PosixPath('Data/rice-image-dataset/Rice_Image_Dataset/Arborio/Arborio (10331).jpg'),\n",
              " PosixPath('Data/rice-image-dataset/Rice_Image_Dataset/Arborio/Arborio (10332).jpg'),\n",
              " PosixPath('Data/rice-image-dataset/Rice_Image_Dataset/Arborio/Arborio (10333).jpg'),\n",
              " PosixPath('Data/rice-image-dataset/Rice_Image_Dataset/Arborio/Arborio (10334).jpg'),\n",
              " PosixPath('Data/rice-image-dataset/Rice_Image_Dataset/Arborio/Arborio (10335).jpg'),\n",
              " PosixPath('Data/rice-image-dataset/Rice_Image_Dataset/Arborio/Arborio (10336).jpg'),\n",
              " PosixPath('Data/rice-image-dataset/Rice_Image_Dataset/Arborio/Arborio (10337).jpg'),\n",
              " PosixPath('Data/rice-image-dataset/Rice_Image_Dataset/Arborio/Arborio (10338).jpg'),\n",
              " PosixPath('Data/rice-image-dataset/Rice_Image_Dataset/Arborio/Arborio (10339).jpg'),\n",
              " PosixPath('Data/rice-image-dataset/Rice_Image_Dataset/Arborio/Arborio (1034).jpg'),\n",
              " PosixPath('Data/rice-image-dataset/Rice_Image_Dataset/Arborio/Arborio (10340).jpg'),\n",
              " PosixPath('Data/rice-image-dataset/Rice_Image_Dataset/Arborio/Arborio (10341).jpg'),\n",
              " PosixPath('Data/rice-image-dataset/Rice_Image_Dataset/Arborio/Arborio (10342).jpg'),\n",
              " PosixPath('Data/rice-image-dataset/Rice_Image_Dataset/Arborio/Arborio (10343).jpg'),\n",
              " PosixPath('Data/rice-image-dataset/Rice_Image_Dataset/Arborio/Arborio (10344).jpg'),\n",
              " PosixPath('Data/rice-image-dataset/Rice_Image_Dataset/Arborio/Arborio (10345).jpg'),\n",
              " PosixPath('Data/rice-image-dataset/Rice_Image_Dataset/Arborio/Arborio (10346).jpg'),\n",
              " PosixPath('Data/rice-image-dataset/Rice_Image_Dataset/Arborio/Arborio (10347).jpg'),\n",
              " PosixPath('Data/rice-image-dataset/Rice_Image_Dataset/Arborio/Arborio (10348).jpg'),\n",
              " PosixPath('Data/rice-image-dataset/Rice_Image_Dataset/Arborio/Arborio (10349).jpg'),\n",
              " PosixPath('Data/rice-image-dataset/Rice_Image_Dataset/Arborio/Arborio (1035).jpg'),\n",
              " PosixPath('Data/rice-image-dataset/Rice_Image_Dataset/Arborio/Arborio (10350).jpg'),\n",
              " PosixPath('Data/rice-image-dataset/Rice_Image_Dataset/Arborio/Arborio (10351).jpg'),\n",
              " PosixPath('Data/rice-image-dataset/Rice_Image_Dataset/Arborio/Arborio (10352).jpg'),\n",
              " PosixPath('Data/rice-image-dataset/Rice_Image_Dataset/Arborio/Arborio (10353).jpg'),\n",
              " PosixPath('Data/rice-image-dataset/Rice_Image_Dataset/Arborio/Arborio (10354).jpg'),\n",
              " PosixPath('Data/rice-image-dataset/Rice_Image_Dataset/Arborio/Arborio (10355).jpg'),\n",
              " PosixPath('Data/rice-image-dataset/Rice_Image_Dataset/Arborio/Arborio (10356).jpg'),\n",
              " PosixPath('Data/rice-image-dataset/Rice_Image_Dataset/Arborio/Arborio (10357).jpg'),\n",
              " PosixPath('Data/rice-image-dataset/Rice_Image_Dataset/Arborio/Arborio (10358).jpg'),\n",
              " PosixPath('Data/rice-image-dataset/Rice_Image_Dataset/Arborio/Arborio (10359).jpg'),\n",
              " PosixPath('Data/rice-image-dataset/Rice_Image_Dataset/Arborio/Arborio (1036).jpg'),\n",
              " PosixPath('Data/rice-image-dataset/Rice_Image_Dataset/Arborio/Arborio (10360).jpg'),\n",
              " PosixPath('Data/rice-image-dataset/Rice_Image_Dataset/Arborio/Arborio (10361).jpg'),\n",
              " PosixPath('Data/rice-image-dataset/Rice_Image_Dataset/Arborio/Arborio (10362).jpg'),\n",
              " PosixPath('Data/rice-image-dataset/Rice_Image_Dataset/Arborio/Arborio (10363).jpg'),\n",
              " PosixPath('Data/rice-image-dataset/Rice_Image_Dataset/Arborio/Arborio (10364).jpg'),\n",
              " PosixPath('Data/rice-image-dataset/Rice_Image_Dataset/Arborio/Arborio (10365).jpg'),\n",
              " PosixPath('Data/rice-image-dataset/Rice_Image_Dataset/Arborio/Arborio (10366).jpg'),\n",
              " PosixPath('Data/rice-image-dataset/Rice_Image_Dataset/Arborio/Arborio (10367).jpg'),\n",
              " PosixPath('Data/rice-image-dataset/Rice_Image_Dataset/Arborio/Arborio (10368).jpg'),\n",
              " PosixPath('Data/rice-image-dataset/Rice_Image_Dataset/Arborio/Arborio (10369).jpg'),\n",
              " PosixPath('Data/rice-image-dataset/Rice_Image_Dataset/Arborio/Arborio (1037).jpg'),\n",
              " PosixPath('Data/rice-image-dataset/Rice_Image_Dataset/Arborio/Arborio (10370).jpg'),\n",
              " PosixPath('Data/rice-image-dataset/Rice_Image_Dataset/Arborio/Arborio (10371).jpg'),\n",
              " PosixPath('Data/rice-image-dataset/Rice_Image_Dataset/Arborio/Arborio (10372).jpg'),\n",
              " PosixPath('Data/rice-image-dataset/Rice_Image_Dataset/Arborio/Arborio (10373).jpg'),\n",
              " PosixPath('Data/rice-image-dataset/Rice_Image_Dataset/Arborio/Arborio (10374).jpg'),\n",
              " PosixPath('Data/rice-image-dataset/Rice_Image_Dataset/Arborio/Arborio (10375).jpg'),\n",
              " PosixPath('Data/rice-image-dataset/Rice_Image_Dataset/Arborio/Arborio (10376).jpg'),\n",
              " PosixPath('Data/rice-image-dataset/Rice_Image_Dataset/Arborio/Arborio (10377).jpg'),\n",
              " PosixPath('Data/rice-image-dataset/Rice_Image_Dataset/Arborio/Arborio (10378).jpg'),\n",
              " PosixPath('Data/rice-image-dataset/Rice_Image_Dataset/Arborio/Arborio (10379).jpg'),\n",
              " PosixPath('Data/rice-image-dataset/Rice_Image_Dataset/Arborio/Arborio (1038).jpg'),\n",
              " PosixPath('Data/rice-image-dataset/Rice_Image_Dataset/Arborio/Arborio (10380).jpg'),\n",
              " PosixPath('Data/rice-image-dataset/Rice_Image_Dataset/Arborio/Arborio (10381).jpg'),\n",
              " PosixPath('Data/rice-image-dataset/Rice_Image_Dataset/Arborio/Arborio (10382).jpg'),\n",
              " PosixPath('Data/rice-image-dataset/Rice_Image_Dataset/Arborio/Arborio (10383).jpg'),\n",
              " PosixPath('Data/rice-image-dataset/Rice_Image_Dataset/Arborio/Arborio (10384).jpg'),\n",
              " PosixPath('Data/rice-image-dataset/Rice_Image_Dataset/Arborio/Arborio (10385).jpg'),\n",
              " PosixPath('Data/rice-image-dataset/Rice_Image_Dataset/Arborio/Arborio (10386).jpg'),\n",
              " PosixPath('Data/rice-image-dataset/Rice_Image_Dataset/Arborio/Arborio (10387).jpg'),\n",
              " PosixPath('Data/rice-image-dataset/Rice_Image_Dataset/Arborio/Arborio (10388).jpg'),\n",
              " PosixPath('Data/rice-image-dataset/Rice_Image_Dataset/Arborio/Arborio (10389).jpg'),\n",
              " PosixPath('Data/rice-image-dataset/Rice_Image_Dataset/Arborio/Arborio (1039).jpg'),\n",
              " PosixPath('Data/rice-image-dataset/Rice_Image_Dataset/Arborio/Arborio (10390).jpg'),\n",
              " PosixPath('Data/rice-image-dataset/Rice_Image_Dataset/Arborio/Arborio (10391).jpg'),\n",
              " PosixPath('Data/rice-image-dataset/Rice_Image_Dataset/Arborio/Arborio (10392).jpg'),\n",
              " PosixPath('Data/rice-image-dataset/Rice_Image_Dataset/Arborio/Arborio (10393).jpg'),\n",
              " PosixPath('Data/rice-image-dataset/Rice_Image_Dataset/Arborio/Arborio (10394).jpg'),\n",
              " PosixPath('Data/rice-image-dataset/Rice_Image_Dataset/Arborio/Arborio (10395).jpg'),\n",
              " PosixPath('Data/rice-image-dataset/Rice_Image_Dataset/Arborio/Arborio (10396).jpg'),\n",
              " PosixPath('Data/rice-image-dataset/Rice_Image_Dataset/Arborio/Arborio (10397).jpg'),\n",
              " PosixPath('Data/rice-image-dataset/Rice_Image_Dataset/Arborio/Arborio (10398).jpg'),\n",
              " PosixPath('Data/rice-image-dataset/Rice_Image_Dataset/Arborio/Arborio (10399).jpg'),\n",
              " PosixPath('Data/rice-image-dataset/Rice_Image_Dataset/Arborio/Arborio (104).jpg'),\n",
              " PosixPath('Data/rice-image-dataset/Rice_Image_Dataset/Arborio/Arborio (1040).jpg'),\n",
              " PosixPath('Data/rice-image-dataset/Rice_Image_Dataset/Arborio/Arborio (10400).jpg'),\n",
              " PosixPath('Data/rice-image-dataset/Rice_Image_Dataset/Arborio/Arborio (10401).jpg'),\n",
              " PosixPath('Data/rice-image-dataset/Rice_Image_Dataset/Arborio/Arborio (10402).jpg'),\n",
              " PosixPath('Data/rice-image-dataset/Rice_Image_Dataset/Arborio/Arborio (10403).jpg'),\n",
              " PosixPath('Data/rice-image-dataset/Rice_Image_Dataset/Arborio/Arborio (10404).jpg'),\n",
              " PosixPath('Data/rice-image-dataset/Rice_Image_Dataset/Arborio/Arborio (10405).jpg'),\n",
              " PosixPath('Data/rice-image-dataset/Rice_Image_Dataset/Arborio/Arborio (10406).jpg'),\n",
              " PosixPath('Data/rice-image-dataset/Rice_Image_Dataset/Arborio/Arborio (10407).jpg'),\n",
              " PosixPath('Data/rice-image-dataset/Rice_Image_Dataset/Arborio/Arborio (10408).jpg'),\n",
              " PosixPath('Data/rice-image-dataset/Rice_Image_Dataset/Arborio/Arborio (10409).jpg'),\n",
              " PosixPath('Data/rice-image-dataset/Rice_Image_Dataset/Arborio/Arborio (1041).jpg'),\n",
              " PosixPath('Data/rice-image-dataset/Rice_Image_Dataset/Arborio/Arborio (10410).jpg'),\n",
              " PosixPath('Data/rice-image-dataset/Rice_Image_Dataset/Arborio/Arborio (10411).jpg'),\n",
              " PosixPath('Data/rice-image-dataset/Rice_Image_Dataset/Arborio/Arborio (10412).jpg'),\n",
              " PosixPath('Data/rice-image-dataset/Rice_Image_Dataset/Arborio/Arborio (10413).jpg'),\n",
              " PosixPath('Data/rice-image-dataset/Rice_Image_Dataset/Arborio/Arborio (10414).jpg'),\n",
              " PosixPath('Data/rice-image-dataset/Rice_Image_Dataset/Arborio/Arborio (10415).jpg'),\n",
              " PosixPath('Data/rice-image-dataset/Rice_Image_Dataset/Arborio/Arborio (10416).jpg'),\n",
              " PosixPath('Data/rice-image-dataset/Rice_Image_Dataset/Arborio/Arborio (10417).jpg'),\n",
              " PosixPath('Data/rice-image-dataset/Rice_Image_Dataset/Arborio/Arborio (10418).jpg'),\n",
              " PosixPath('Data/rice-image-dataset/Rice_Image_Dataset/Arborio/Arborio (10419).jpg'),\n",
              " PosixPath('Data/rice-image-dataset/Rice_Image_Dataset/Arborio/Arborio (1042).jpg'),\n",
              " PosixPath('Data/rice-image-dataset/Rice_Image_Dataset/Arborio/Arborio (10420).jpg'),\n",
              " PosixPath('Data/rice-image-dataset/Rice_Image_Dataset/Arborio/Arborio (10421).jpg'),\n",
              " PosixPath('Data/rice-image-dataset/Rice_Image_Dataset/Arborio/Arborio (10422).jpg'),\n",
              " PosixPath('Data/rice-image-dataset/Rice_Image_Dataset/Arborio/Arborio (10423).jpg'),\n",
              " PosixPath('Data/rice-image-dataset/Rice_Image_Dataset/Arborio/Arborio (10424).jpg'),\n",
              " PosixPath('Data/rice-image-dataset/Rice_Image_Dataset/Arborio/Arborio (10425).jpg'),\n",
              " PosixPath('Data/rice-image-dataset/Rice_Image_Dataset/Arborio/Arborio (10426).jpg'),\n",
              " PosixPath('Data/rice-image-dataset/Rice_Image_Dataset/Arborio/Arborio (10427).jpg'),\n",
              " PosixPath('Data/rice-image-dataset/Rice_Image_Dataset/Arborio/Arborio (10428).jpg'),\n",
              " PosixPath('Data/rice-image-dataset/Rice_Image_Dataset/Arborio/Arborio (10429).jpg'),\n",
              " PosixPath('Data/rice-image-dataset/Rice_Image_Dataset/Arborio/Arborio (1043).jpg'),\n",
              " PosixPath('Data/rice-image-dataset/Rice_Image_Dataset/Arborio/Arborio (10430).jpg'),\n",
              " PosixPath('Data/rice-image-dataset/Rice_Image_Dataset/Arborio/Arborio (10431).jpg'),\n",
              " PosixPath('Data/rice-image-dataset/Rice_Image_Dataset/Arborio/Arborio (10432).jpg'),\n",
              " PosixPath('Data/rice-image-dataset/Rice_Image_Dataset/Arborio/Arborio (10433).jpg'),\n",
              " PosixPath('Data/rice-image-dataset/Rice_Image_Dataset/Arborio/Arborio (10434).jpg'),\n",
              " PosixPath('Data/rice-image-dataset/Rice_Image_Dataset/Arborio/Arborio (10435).jpg'),\n",
              " PosixPath('Data/rice-image-dataset/Rice_Image_Dataset/Arborio/Arborio (10436).jpg'),\n",
              " PosixPath('Data/rice-image-dataset/Rice_Image_Dataset/Arborio/Arborio (10437).jpg'),\n",
              " PosixPath('Data/rice-image-dataset/Rice_Image_Dataset/Arborio/Arborio (10438).jpg'),\n",
              " PosixPath('Data/rice-image-dataset/Rice_Image_Dataset/Arborio/Arborio (10439).jpg'),\n",
              " PosixPath('Data/rice-image-dataset/Rice_Image_Dataset/Arborio/Arborio (1044).jpg'),\n",
              " PosixPath('Data/rice-image-dataset/Rice_Image_Dataset/Arborio/Arborio (10440).jpg'),\n",
              " PosixPath('Data/rice-image-dataset/Rice_Image_Dataset/Arborio/Arborio (10441).jpg'),\n",
              " PosixPath('Data/rice-image-dataset/Rice_Image_Dataset/Arborio/Arborio (10442).jpg'),\n",
              " PosixPath('Data/rice-image-dataset/Rice_Image_Dataset/Arborio/Arborio (10443).jpg'),\n",
              " PosixPath('Data/rice-image-dataset/Rice_Image_Dataset/Arborio/Arborio (10444).jpg'),\n",
              " PosixPath('Data/rice-image-dataset/Rice_Image_Dataset/Arborio/Arborio (10445).jpg'),\n",
              " PosixPath('Data/rice-image-dataset/Rice_Image_Dataset/Arborio/Arborio (10446).jpg'),\n",
              " PosixPath('Data/rice-image-dataset/Rice_Image_Dataset/Arborio/Arborio (10447).jpg'),\n",
              " PosixPath('Data/rice-image-dataset/Rice_Image_Dataset/Arborio/Arborio (10448).jpg'),\n",
              " PosixPath('Data/rice-image-dataset/Rice_Image_Dataset/Arborio/Arborio (10449).jpg'),\n",
              " PosixPath('Data/rice-image-dataset/Rice_Image_Dataset/Arborio/Arborio (1045).jpg'),\n",
              " PosixPath('Data/rice-image-dataset/Rice_Image_Dataset/Arborio/Arborio (10450).jpg'),\n",
              " PosixPath('Data/rice-image-dataset/Rice_Image_Dataset/Arborio/Arborio (10451).jpg'),\n",
              " PosixPath('Data/rice-image-dataset/Rice_Image_Dataset/Arborio/Arborio (10452).jpg'),\n",
              " PosixPath('Data/rice-image-dataset/Rice_Image_Dataset/Arborio/Arborio (10453).jpg'),\n",
              " PosixPath('Data/rice-image-dataset/Rice_Image_Dataset/Arborio/Arborio (10454).jpg'),\n",
              " PosixPath('Data/rice-image-dataset/Rice_Image_Dataset/Arborio/Arborio (10455).jpg'),\n",
              " PosixPath('Data/rice-image-dataset/Rice_Image_Dataset/Arborio/Arborio (10456).jpg'),\n",
              " PosixPath('Data/rice-image-dataset/Rice_Image_Dataset/Arborio/Arborio (10457).jpg'),\n",
              " PosixPath('Data/rice-image-dataset/Rice_Image_Dataset/Arborio/Arborio (10458).jpg'),\n",
              " PosixPath('Data/rice-image-dataset/Rice_Image_Dataset/Arborio/Arborio (10459).jpg'),\n",
              " PosixPath('Data/rice-image-dataset/Rice_Image_Dataset/Arborio/Arborio (1046).jpg'),\n",
              " PosixPath('Data/rice-image-dataset/Rice_Image_Dataset/Arborio/Arborio (10460).jpg'),\n",
              " PosixPath('Data/rice-image-dataset/Rice_Image_Dataset/Arborio/Arborio (10461).jpg'),\n",
              " PosixPath('Data/rice-image-dataset/Rice_Image_Dataset/Arborio/Arborio (10462).jpg'),\n",
              " PosixPath('Data/rice-image-dataset/Rice_Image_Dataset/Arborio/Arborio (10463).jpg'),\n",
              " PosixPath('Data/rice-image-dataset/Rice_Image_Dataset/Arborio/Arborio (10464).jpg'),\n",
              " PosixPath('Data/rice-image-dataset/Rice_Image_Dataset/Arborio/Arborio (10465).jpg'),\n",
              " PosixPath('Data/rice-image-dataset/Rice_Image_Dataset/Arborio/Arborio (10466).jpg'),\n",
              " PosixPath('Data/rice-image-dataset/Rice_Image_Dataset/Arborio/Arborio (10467).jpg'),\n",
              " PosixPath('Data/rice-image-dataset/Rice_Image_Dataset/Arborio/Arborio (10468).jpg'),\n",
              " PosixPath('Data/rice-image-dataset/Rice_Image_Dataset/Arborio/Arborio (10469).jpg'),\n",
              " PosixPath('Data/rice-image-dataset/Rice_Image_Dataset/Arborio/Arborio (1047).jpg'),\n",
              " PosixPath('Data/rice-image-dataset/Rice_Image_Dataset/Arborio/Arborio (10470).jpg'),\n",
              " PosixPath('Data/rice-image-dataset/Rice_Image_Dataset/Arborio/Arborio (10471).jpg'),\n",
              " PosixPath('Data/rice-image-dataset/Rice_Image_Dataset/Arborio/Arborio (10472).jpg'),\n",
              " PosixPath('Data/rice-image-dataset/Rice_Image_Dataset/Arborio/Arborio (10473).jpg'),\n",
              " PosixPath('Data/rice-image-dataset/Rice_Image_Dataset/Arborio/Arborio (10474).jpg'),\n",
              " PosixPath('Data/rice-image-dataset/Rice_Image_Dataset/Arborio/Arborio (10475).jpg'),\n",
              " PosixPath('Data/rice-image-dataset/Rice_Image_Dataset/Arborio/Arborio (10476).jpg'),\n",
              " PosixPath('Data/rice-image-dataset/Rice_Image_Dataset/Arborio/Arborio (10477).jpg'),\n",
              " PosixPath('Data/rice-image-dataset/Rice_Image_Dataset/Arborio/Arborio (10478).jpg'),\n",
              " PosixPath('Data/rice-image-dataset/Rice_Image_Dataset/Arborio/Arborio (10479).jpg'),\n",
              " PosixPath('Data/rice-image-dataset/Rice_Image_Dataset/Arborio/Arborio (1048).jpg'),\n",
              " PosixPath('Data/rice-image-dataset/Rice_Image_Dataset/Arborio/Arborio (10480).jpg'),\n",
              " PosixPath('Data/rice-image-dataset/Rice_Image_Dataset/Arborio/Arborio (10481).jpg'),\n",
              " PosixPath('Data/rice-image-dataset/Rice_Image_Dataset/Arborio/Arborio (10482).jpg'),\n",
              " PosixPath('Data/rice-image-dataset/Rice_Image_Dataset/Arborio/Arborio (10483).jpg'),\n",
              " PosixPath('Data/rice-image-dataset/Rice_Image_Dataset/Arborio/Arborio (10484).jpg'),\n",
              " PosixPath('Data/rice-image-dataset/Rice_Image_Dataset/Arborio/Arborio (10485).jpg'),\n",
              " PosixPath('Data/rice-image-dataset/Rice_Image_Dataset/Arborio/Arborio (10486).jpg'),\n",
              " PosixPath('Data/rice-image-dataset/Rice_Image_Dataset/Arborio/Arborio (10487).jpg'),\n",
              " PosixPath('Data/rice-image-dataset/Rice_Image_Dataset/Arborio/Arborio (10488).jpg'),\n",
              " PosixPath('Data/rice-image-dataset/Rice_Image_Dataset/Arborio/Arborio (10489).jpg'),\n",
              " PosixPath('Data/rice-image-dataset/Rice_Image_Dataset/Arborio/Arborio (1049).jpg'),\n",
              " PosixPath('Data/rice-image-dataset/Rice_Image_Dataset/Arborio/Arborio (10490).jpg'),\n",
              " PosixPath('Data/rice-image-dataset/Rice_Image_Dataset/Arborio/Arborio (10491).jpg'),\n",
              " PosixPath('Data/rice-image-dataset/Rice_Image_Dataset/Arborio/Arborio (10492).jpg'),\n",
              " PosixPath('Data/rice-image-dataset/Rice_Image_Dataset/Arborio/Arborio (10493).jpg'),\n",
              " PosixPath('Data/rice-image-dataset/Rice_Image_Dataset/Arborio/Arborio (10494).jpg'),\n",
              " PosixPath('Data/rice-image-dataset/Rice_Image_Dataset/Arborio/Arborio (10495).jpg'),\n",
              " PosixPath('Data/rice-image-dataset/Rice_Image_Dataset/Arborio/Arborio (10496).jpg'),\n",
              " PosixPath('Data/rice-image-dataset/Rice_Image_Dataset/Arborio/Arborio (10497).jpg'),\n",
              " PosixPath('Data/rice-image-dataset/Rice_Image_Dataset/Arborio/Arborio (10498).jpg'),\n",
              " PosixPath('Data/rice-image-dataset/Rice_Image_Dataset/Arborio/Arborio (10499).jpg'),\n",
              " PosixPath('Data/rice-image-dataset/Rice_Image_Dataset/Arborio/Arborio (105).jpg'),\n",
              " PosixPath('Data/rice-image-dataset/Rice_Image_Dataset/Arborio/Arborio (1050).jpg'),\n",
              " PosixPath('Data/rice-image-dataset/Rice_Image_Dataset/Arborio/Arborio (10500).jpg'),\n",
              " PosixPath('Data/rice-image-dataset/Rice_Image_Dataset/Arborio/Arborio (10501).jpg'),\n",
              " PosixPath('Data/rice-image-dataset/Rice_Image_Dataset/Arborio/Arborio (10502).jpg'),\n",
              " PosixPath('Data/rice-image-dataset/Rice_Image_Dataset/Arborio/Arborio (10503).jpg'),\n",
              " PosixPath('Data/rice-image-dataset/Rice_Image_Dataset/Arborio/Arborio (10504).jpg'),\n",
              " PosixPath('Data/rice-image-dataset/Rice_Image_Dataset/Arborio/Arborio (10505).jpg'),\n",
              " PosixPath('Data/rice-image-dataset/Rice_Image_Dataset/Arborio/Arborio (10506).jpg'),\n",
              " PosixPath('Data/rice-image-dataset/Rice_Image_Dataset/Arborio/Arborio (10507).jpg'),\n",
              " PosixPath('Data/rice-image-dataset/Rice_Image_Dataset/Arborio/Arborio (10508).jpg'),\n",
              " PosixPath('Data/rice-image-dataset/Rice_Image_Dataset/Arborio/Arborio (10509).jpg'),\n",
              " PosixPath('Data/rice-image-dataset/Rice_Image_Dataset/Arborio/Arborio (1051).jpg'),\n",
              " PosixPath('Data/rice-image-dataset/Rice_Image_Dataset/Arborio/Arborio (10510).jpg'),\n",
              " PosixPath('Data/rice-image-dataset/Rice_Image_Dataset/Arborio/Arborio (10511).jpg'),\n",
              " PosixPath('Data/rice-image-dataset/Rice_Image_Dataset/Arborio/Arborio (10512).jpg'),\n",
              " PosixPath('Data/rice-image-dataset/Rice_Image_Dataset/Arborio/Arborio (10513).jpg'),\n",
              " PosixPath('Data/rice-image-dataset/Rice_Image_Dataset/Arborio/Arborio (10514).jpg'),\n",
              " PosixPath('Data/rice-image-dataset/Rice_Image_Dataset/Arborio/Arborio (10515).jpg'),\n",
              " PosixPath('Data/rice-image-dataset/Rice_Image_Dataset/Arborio/Arborio (10516).jpg'),\n",
              " PosixPath('Data/rice-image-dataset/Rice_Image_Dataset/Arborio/Arborio (10517).jpg'),\n",
              " PosixPath('Data/rice-image-dataset/Rice_Image_Dataset/Arborio/Arborio (10518).jpg'),\n",
              " PosixPath('Data/rice-image-dataset/Rice_Image_Dataset/Arborio/Arborio (10519).jpg'),\n",
              " PosixPath('Data/rice-image-dataset/Rice_Image_Dataset/Arborio/Arborio (1052).jpg'),\n",
              " PosixPath('Data/rice-image-dataset/Rice_Image_Dataset/Arborio/Arborio (10520).jpg'),\n",
              " PosixPath('Data/rice-image-dataset/Rice_Image_Dataset/Arborio/Arborio (10521).jpg'),\n",
              " PosixPath('Data/rice-image-dataset/Rice_Image_Dataset/Arborio/Arborio (10522).jpg'),\n",
              " PosixPath('Data/rice-image-dataset/Rice_Image_Dataset/Arborio/Arborio (10523).jpg'),\n",
              " PosixPath('Data/rice-image-dataset/Rice_Image_Dataset/Arborio/Arborio (10524).jpg'),\n",
              " PosixPath('Data/rice-image-dataset/Rice_Image_Dataset/Arborio/Arborio (10525).jpg'),\n",
              " PosixPath('Data/rice-image-dataset/Rice_Image_Dataset/Arborio/Arborio (10526).jpg'),\n",
              " PosixPath('Data/rice-image-dataset/Rice_Image_Dataset/Arborio/Arborio (10527).jpg'),\n",
              " PosixPath('Data/rice-image-dataset/Rice_Image_Dataset/Arborio/Arborio (10528).jpg'),\n",
              " PosixPath('Data/rice-image-dataset/Rice_Image_Dataset/Arborio/Arborio (10529).jpg'),\n",
              " PosixPath('Data/rice-image-dataset/Rice_Image_Dataset/Arborio/Arborio (1053).jpg'),\n",
              " PosixPath('Data/rice-image-dataset/Rice_Image_Dataset/Arborio/Arborio (10530).jpg'),\n",
              " PosixPath('Data/rice-image-dataset/Rice_Image_Dataset/Arborio/Arborio (10531).jpg'),\n",
              " PosixPath('Data/rice-image-dataset/Rice_Image_Dataset/Arborio/Arborio (10532).jpg'),\n",
              " PosixPath('Data/rice-image-dataset/Rice_Image_Dataset/Arborio/Arborio (10533).jpg'),\n",
              " PosixPath('Data/rice-image-dataset/Rice_Image_Dataset/Arborio/Arborio (10534).jpg'),\n",
              " PosixPath('Data/rice-image-dataset/Rice_Image_Dataset/Arborio/Arborio (10535).jpg'),\n",
              " PosixPath('Data/rice-image-dataset/Rice_Image_Dataset/Arborio/Arborio (10536).jpg'),\n",
              " PosixPath('Data/rice-image-dataset/Rice_Image_Dataset/Arborio/Arborio (10537).jpg'),\n",
              " PosixPath('Data/rice-image-dataset/Rice_Image_Dataset/Arborio/Arborio (10538).jpg'),\n",
              " PosixPath('Data/rice-image-dataset/Rice_Image_Dataset/Arborio/Arborio (10539).jpg'),\n",
              " PosixPath('Data/rice-image-dataset/Rice_Image_Dataset/Arborio/Arborio (1054).jpg'),\n",
              " PosixPath('Data/rice-image-dataset/Rice_Image_Dataset/Arborio/Arborio (10540).jpg'),\n",
              " PosixPath('Data/rice-image-dataset/Rice_Image_Dataset/Arborio/Arborio (10541).jpg'),\n",
              " PosixPath('Data/rice-image-dataset/Rice_Image_Dataset/Arborio/Arborio (10542).jpg'),\n",
              " PosixPath('Data/rice-image-dataset/Rice_Image_Dataset/Arborio/Arborio (10543).jpg'),\n",
              " PosixPath('Data/rice-image-dataset/Rice_Image_Dataset/Arborio/Arborio (10544).jpg'),\n",
              " PosixPath('Data/rice-image-dataset/Rice_Image_Dataset/Arborio/Arborio (10545).jpg'),\n",
              " PosixPath('Data/rice-image-dataset/Rice_Image_Dataset/Arborio/Arborio (10546).jpg'),\n",
              " PosixPath('Data/rice-image-dataset/Rice_Image_Dataset/Arborio/Arborio (10547).jpg'),\n",
              " PosixPath('Data/rice-image-dataset/Rice_Image_Dataset/Arborio/Arborio (10548).jpg'),\n",
              " PosixPath('Data/rice-image-dataset/Rice_Image_Dataset/Arborio/Arborio (10549).jpg'),\n",
              " PosixPath('Data/rice-image-dataset/Rice_Image_Dataset/Arborio/Arborio (1055).jpg'),\n",
              " PosixPath('Data/rice-image-dataset/Rice_Image_Dataset/Arborio/Arborio (10550).jpg'),\n",
              " PosixPath('Data/rice-image-dataset/Rice_Image_Dataset/Arborio/Arborio (10551).jpg'),\n",
              " PosixPath('Data/rice-image-dataset/Rice_Image_Dataset/Arborio/Arborio (10552).jpg'),\n",
              " PosixPath('Data/rice-image-dataset/Rice_Image_Dataset/Arborio/Arborio (10553).jpg'),\n",
              " PosixPath('Data/rice-image-dataset/Rice_Image_Dataset/Arborio/Arborio (10554).jpg'),\n",
              " PosixPath('Data/rice-image-dataset/Rice_Image_Dataset/Arborio/Arborio (10555).jpg'),\n",
              " PosixPath('Data/rice-image-dataset/Rice_Image_Dataset/Arborio/Arborio (10556).jpg'),\n",
              " PosixPath('Data/rice-image-dataset/Rice_Image_Dataset/Arborio/Arborio (10557).jpg'),\n",
              " PosixPath('Data/rice-image-dataset/Rice_Image_Dataset/Arborio/Arborio (10558).jpg'),\n",
              " PosixPath('Data/rice-image-dataset/Rice_Image_Dataset/Arborio/Arborio (10559).jpg'),\n",
              " PosixPath('Data/rice-image-dataset/Rice_Image_Dataset/Arborio/Arborio (1056).jpg'),\n",
              " PosixPath('Data/rice-image-dataset/Rice_Image_Dataset/Arborio/Arborio (10560).jpg'),\n",
              " PosixPath('Data/rice-image-dataset/Rice_Image_Dataset/Arborio/Arborio (10561).jpg'),\n",
              " PosixPath('Data/rice-image-dataset/Rice_Image_Dataset/Arborio/Arborio (10562).jpg'),\n",
              " PosixPath('Data/rice-image-dataset/Rice_Image_Dataset/Arborio/Arborio (10563).jpg'),\n",
              " PosixPath('Data/rice-image-dataset/Rice_Image_Dataset/Arborio/Arborio (10564).jpg'),\n",
              " PosixPath('Data/rice-image-dataset/Rice_Image_Dataset/Arborio/Arborio (10565).jpg'),\n",
              " PosixPath('Data/rice-image-dataset/Rice_Image_Dataset/Arborio/Arborio (10566).jpg'),\n",
              " PosixPath('Data/rice-image-dataset/Rice_Image_Dataset/Arborio/Arborio (10567).jpg'),\n",
              " PosixPath('Data/rice-image-dataset/Rice_Image_Dataset/Arborio/Arborio (10568).jpg'),\n",
              " PosixPath('Data/rice-image-dataset/Rice_Image_Dataset/Arborio/Arborio (10569).jpg'),\n",
              " PosixPath('Data/rice-image-dataset/Rice_Image_Dataset/Arborio/Arborio (1057).jpg'),\n",
              " PosixPath('Data/rice-image-dataset/Rice_Image_Dataset/Arborio/Arborio (10570).jpg'),\n",
              " PosixPath('Data/rice-image-dataset/Rice_Image_Dataset/Arborio/Arborio (10571).jpg'),\n",
              " PosixPath('Data/rice-image-dataset/Rice_Image_Dataset/Arborio/Arborio (10572).jpg'),\n",
              " PosixPath('Data/rice-image-dataset/Rice_Image_Dataset/Arborio/Arborio (10573).jpg'),\n",
              " PosixPath('Data/rice-image-dataset/Rice_Image_Dataset/Arborio/Arborio (10574).jpg'),\n",
              " PosixPath('Data/rice-image-dataset/Rice_Image_Dataset/Arborio/Arborio (10575).jpg'),\n",
              " PosixPath('Data/rice-image-dataset/Rice_Image_Dataset/Arborio/Arborio (10576).jpg'),\n",
              " PosixPath('Data/rice-image-dataset/Rice_Image_Dataset/Arborio/Arborio (10577).jpg'),\n",
              " PosixPath('Data/rice-image-dataset/Rice_Image_Dataset/Arborio/Arborio (10578).jpg'),\n",
              " PosixPath('Data/rice-image-dataset/Rice_Image_Dataset/Arborio/Arborio (10579).jpg'),\n",
              " PosixPath('Data/rice-image-dataset/Rice_Image_Dataset/Arborio/Arborio (1058).jpg'),\n",
              " PosixPath('Data/rice-image-dataset/Rice_Image_Dataset/Arborio/Arborio (10580).jpg'),\n",
              " PosixPath('Data/rice-image-dataset/Rice_Image_Dataset/Arborio/Arborio (10581).jpg'),\n",
              " PosixPath('Data/rice-image-dataset/Rice_Image_Dataset/Arborio/Arborio (10582).jpg'),\n",
              " PosixPath('Data/rice-image-dataset/Rice_Image_Dataset/Arborio/Arborio (10583).jpg'),\n",
              " PosixPath('Data/rice-image-dataset/Rice_Image_Dataset/Arborio/Arborio (10584).jpg'),\n",
              " PosixPath('Data/rice-image-dataset/Rice_Image_Dataset/Arborio/Arborio (10585).jpg'),\n",
              " PosixPath('Data/rice-image-dataset/Rice_Image_Dataset/Arborio/Arborio (10586).jpg'),\n",
              " PosixPath('Data/rice-image-dataset/Rice_Image_Dataset/Arborio/Arborio (10587).jpg'),\n",
              " PosixPath('Data/rice-image-dataset/Rice_Image_Dataset/Arborio/Arborio (10588).jpg'),\n",
              " PosixPath('Data/rice-image-dataset/Rice_Image_Dataset/Arborio/Arborio (10589).jpg'),\n",
              " PosixPath('Data/rice-image-dataset/Rice_Image_Dataset/Arborio/Arborio (1059).jpg'),\n",
              " PosixPath('Data/rice-image-dataset/Rice_Image_Dataset/Arborio/Arborio (10590).jpg'),\n",
              " PosixPath('Data/rice-image-dataset/Rice_Image_Dataset/Arborio/Arborio (10591).jpg'),\n",
              " PosixPath('Data/rice-image-dataset/Rice_Image_Dataset/Arborio/Arborio (10592).jpg'),\n",
              " PosixPath('Data/rice-image-dataset/Rice_Image_Dataset/Arborio/Arborio (10593).jpg'),\n",
              " PosixPath('Data/rice-image-dataset/Rice_Image_Dataset/Arborio/Arborio (10594).jpg'),\n",
              " PosixPath('Data/rice-image-dataset/Rice_Image_Dataset/Arborio/Arborio (10595).jpg'),\n",
              " PosixPath('Data/rice-image-dataset/Rice_Image_Dataset/Arborio/Arborio (10596).jpg'),\n",
              " PosixPath('Data/rice-image-dataset/Rice_Image_Dataset/Arborio/Arborio (10597).jpg'),\n",
              " PosixPath('Data/rice-image-dataset/Rice_Image_Dataset/Arborio/Arborio (10598).jpg'),\n",
              " PosixPath('Data/rice-image-dataset/Rice_Image_Dataset/Arborio/Arborio (10599).jpg'),\n",
              " PosixPath('Data/rice-image-dataset/Rice_Image_Dataset/Arborio/Arborio (106).jpg'),\n",
              " PosixPath('Data/rice-image-dataset/Rice_Image_Dataset/Arborio/Arborio (1060).jpg'),\n",
              " PosixPath('Data/rice-image-dataset/Rice_Image_Dataset/Arborio/Arborio (10600).jpg'),\n",
              " PosixPath('Data/rice-image-dataset/Rice_Image_Dataset/Arborio/Arborio (10601).jpg'),\n",
              " PosixPath('Data/rice-image-dataset/Rice_Image_Dataset/Arborio/Arborio (10602).jpg'),\n",
              " PosixPath('Data/rice-image-dataset/Rice_Image_Dataset/Arborio/Arborio (10603).jpg'),\n",
              " PosixPath('Data/rice-image-dataset/Rice_Image_Dataset/Arborio/Arborio (10604).jpg'),\n",
              " PosixPath('Data/rice-image-dataset/Rice_Image_Dataset/Arborio/Arborio (10605).jpg'),\n",
              " PosixPath('Data/rice-image-dataset/Rice_Image_Dataset/Arborio/Arborio (10606).jpg'),\n",
              " PosixPath('Data/rice-image-dataset/Rice_Image_Dataset/Arborio/Arborio (10607).jpg'),\n",
              " PosixPath('Data/rice-image-dataset/Rice_Image_Dataset/Arborio/Arborio (10608).jpg'),\n",
              " PosixPath('Data/rice-image-dataset/Rice_Image_Dataset/Arborio/Arborio (10609).jpg'),\n",
              " PosixPath('Data/rice-image-dataset/Rice_Image_Dataset/Arborio/Arborio (1061).jpg'),\n",
              " PosixPath('Data/rice-image-dataset/Rice_Image_Dataset/Arborio/Arborio (10610).jpg'),\n",
              " PosixPath('Data/rice-image-dataset/Rice_Image_Dataset/Arborio/Arborio (10611).jpg'),\n",
              " PosixPath('Data/rice-image-dataset/Rice_Image_Dataset/Arborio/Arborio (10612).jpg'),\n",
              " PosixPath('Data/rice-image-dataset/Rice_Image_Dataset/Arborio/Arborio (10613).jpg'),\n",
              " PosixPath('Data/rice-image-dataset/Rice_Image_Dataset/Arborio/Arborio (10614).jpg'),\n",
              " PosixPath('Data/rice-image-dataset/Rice_Image_Dataset/Arborio/Arborio (10615).jpg'),\n",
              " PosixPath('Data/rice-image-dataset/Rice_Image_Dataset/Arborio/Arborio (10616).jpg'),\n",
              " PosixPath('Data/rice-image-dataset/Rice_Image_Dataset/Arborio/Arborio (10617).jpg'),\n",
              " PosixPath('Data/rice-image-dataset/Rice_Image_Dataset/Arborio/Arborio (10618).jpg'),\n",
              " PosixPath('Data/rice-image-dataset/Rice_Image_Dataset/Arborio/Arborio (10619).jpg'),\n",
              " PosixPath('Data/rice-image-dataset/Rice_Image_Dataset/Arborio/Arborio (1062).jpg'),\n",
              " PosixPath('Data/rice-image-dataset/Rice_Image_Dataset/Arborio/Arborio (10620).jpg'),\n",
              " PosixPath('Data/rice-image-dataset/Rice_Image_Dataset/Arborio/Arborio (10621).jpg'),\n",
              " PosixPath('Data/rice-image-dataset/Rice_Image_Dataset/Arborio/Arborio (10622).jpg'),\n",
              " PosixPath('Data/rice-image-dataset/Rice_Image_Dataset/Arborio/Arborio (10623).jpg'),\n",
              " PosixPath('Data/rice-image-dataset/Rice_Image_Dataset/Arborio/Arborio (10624).jpg'),\n",
              " PosixPath('Data/rice-image-dataset/Rice_Image_Dataset/Arborio/Arborio (10625).jpg'),\n",
              " PosixPath('Data/rice-image-dataset/Rice_Image_Dataset/Arborio/Arborio (10626).jpg'),\n",
              " PosixPath('Data/rice-image-dataset/Rice_Image_Dataset/Arborio/Arborio (10627).jpg'),\n",
              " PosixPath('Data/rice-image-dataset/Rice_Image_Dataset/Arborio/Arborio (10628).jpg'),\n",
              " PosixPath('Data/rice-image-dataset/Rice_Image_Dataset/Arborio/Arborio (10629).jpg'),\n",
              " PosixPath('Data/rice-image-dataset/Rice_Image_Dataset/Arborio/Arborio (1063).jpg'),\n",
              " PosixPath('Data/rice-image-dataset/Rice_Image_Dataset/Arborio/Arborio (10630).jpg'),\n",
              " PosixPath('Data/rice-image-dataset/Rice_Image_Dataset/Arborio/Arborio (10631).jpg'),\n",
              " PosixPath('Data/rice-image-dataset/Rice_Image_Dataset/Arborio/Arborio (10632).jpg'),\n",
              " PosixPath('Data/rice-image-dataset/Rice_Image_Dataset/Arborio/Arborio (10633).jpg'),\n",
              " PosixPath('Data/rice-image-dataset/Rice_Image_Dataset/Arborio/Arborio (10634).jpg'),\n",
              " PosixPath('Data/rice-image-dataset/Rice_Image_Dataset/Arborio/Arborio (10635).jpg'),\n",
              " PosixPath('Data/rice-image-dataset/Rice_Image_Dataset/Arborio/Arborio (10636).jpg'),\n",
              " PosixPath('Data/rice-image-dataset/Rice_Image_Dataset/Arborio/Arborio (10637).jpg'),\n",
              " PosixPath('Data/rice-image-dataset/Rice_Image_Dataset/Arborio/Arborio (10638).jpg'),\n",
              " PosixPath('Data/rice-image-dataset/Rice_Image_Dataset/Arborio/Arborio (10639).jpg'),\n",
              " PosixPath('Data/rice-image-dataset/Rice_Image_Dataset/Arborio/Arborio (1064).jpg'),\n",
              " PosixPath('Data/rice-image-dataset/Rice_Image_Dataset/Arborio/Arborio (10640).jpg'),\n",
              " PosixPath('Data/rice-image-dataset/Rice_Image_Dataset/Arborio/Arborio (10641).jpg'),\n",
              " PosixPath('Data/rice-image-dataset/Rice_Image_Dataset/Arborio/Arborio (10642).jpg'),\n",
              " PosixPath('Data/rice-image-dataset/Rice_Image_Dataset/Arborio/Arborio (10643).jpg'),\n",
              " PosixPath('Data/rice-image-dataset/Rice_Image_Dataset/Arborio/Arborio (10644).jpg'),\n",
              " PosixPath('Data/rice-image-dataset/Rice_Image_Dataset/Arborio/Arborio (10645).jpg'),\n",
              " PosixPath('Data/rice-image-dataset/Rice_Image_Dataset/Arborio/Arborio (10646).jpg'),\n",
              " PosixPath('Data/rice-image-dataset/Rice_Image_Dataset/Arborio/Arborio (10647).jpg'),\n",
              " PosixPath('Data/rice-image-dataset/Rice_Image_Dataset/Arborio/Arborio (10648).jpg'),\n",
              " PosixPath('Data/rice-image-dataset/Rice_Image_Dataset/Arborio/Arborio (10649).jpg'),\n",
              " PosixPath('Data/rice-image-dataset/Rice_Image_Dataset/Arborio/Arborio (1065).jpg'),\n",
              " PosixPath('Data/rice-image-dataset/Rice_Image_Dataset/Arborio/Arborio (10650).jpg'),\n",
              " PosixPath('Data/rice-image-dataset/Rice_Image_Dataset/Arborio/Arborio (10651).jpg'),\n",
              " PosixPath('Data/rice-image-dataset/Rice_Image_Dataset/Arborio/Arborio (10652).jpg'),\n",
              " PosixPath('Data/rice-image-dataset/Rice_Image_Dataset/Arborio/Arborio (10653).jpg'),\n",
              " PosixPath('Data/rice-image-dataset/Rice_Image_Dataset/Arborio/Arborio (10654).jpg'),\n",
              " PosixPath('Data/rice-image-dataset/Rice_Image_Dataset/Arborio/Arborio (10655).jpg'),\n",
              " PosixPath('Data/rice-image-dataset/Rice_Image_Dataset/Arborio/Arborio (10656).jpg'),\n",
              " PosixPath('Data/rice-image-dataset/Rice_Image_Dataset/Arborio/Arborio (10657).jpg'),\n",
              " PosixPath('Data/rice-image-dataset/Rice_Image_Dataset/Arborio/Arborio (10658).jpg'),\n",
              " PosixPath('Data/rice-image-dataset/Rice_Image_Dataset/Arborio/Arborio (10659).jpg'),\n",
              " PosixPath('Data/rice-image-dataset/Rice_Image_Dataset/Arborio/Arborio (1066).jpg'),\n",
              " PosixPath('Data/rice-image-dataset/Rice_Image_Dataset/Arborio/Arborio (10660).jpg'),\n",
              " PosixPath('Data/rice-image-dataset/Rice_Image_Dataset/Arborio/Arborio (10661).jpg'),\n",
              " PosixPath('Data/rice-image-dataset/Rice_Image_Dataset/Arborio/Arborio (10662).jpg'),\n",
              " PosixPath('Data/rice-image-dataset/Rice_Image_Dataset/Arborio/Arborio (10663).jpg'),\n",
              " PosixPath('Data/rice-image-dataset/Rice_Image_Dataset/Arborio/Arborio (10664).jpg'),\n",
              " PosixPath('Data/rice-image-dataset/Rice_Image_Dataset/Arborio/Arborio (10665).jpg'),\n",
              " PosixPath('Data/rice-image-dataset/Rice_Image_Dataset/Arborio/Arborio (10666).jpg'),\n",
              " PosixPath('Data/rice-image-dataset/Rice_Image_Dataset/Arborio/Arborio (10667).jpg'),\n",
              " PosixPath('Data/rice-image-dataset/Rice_Image_Dataset/Arborio/Arborio (10668).jpg'),\n",
              " PosixPath('Data/rice-image-dataset/Rice_Image_Dataset/Arborio/Arborio (10669).jpg'),\n",
              " PosixPath('Data/rice-image-dataset/Rice_Image_Dataset/Arborio/Arborio (1067).jpg'),\n",
              " PosixPath('Data/rice-image-dataset/Rice_Image_Dataset/Arborio/Arborio (10670).jpg'),\n",
              " PosixPath('Data/rice-image-dataset/Rice_Image_Dataset/Arborio/Arborio (10671).jpg'),\n",
              " PosixPath('Data/rice-image-dataset/Rice_Image_Dataset/Arborio/Arborio (10672).jpg'),\n",
              " PosixPath('Data/rice-image-dataset/Rice_Image_Dataset/Arborio/Arborio (10673).jpg'),\n",
              " PosixPath('Data/rice-image-dataset/Rice_Image_Dataset/Arborio/Arborio (10674).jpg'),\n",
              " PosixPath('Data/rice-image-dataset/Rice_Image_Dataset/Arborio/Arborio (10675).jpg'),\n",
              " PosixPath('Data/rice-image-dataset/Rice_Image_Dataset/Arborio/Arborio (10676).jpg'),\n",
              " PosixPath('Data/rice-image-dataset/Rice_Image_Dataset/Arborio/Arborio (10677).jpg'),\n",
              " PosixPath('Data/rice-image-dataset/Rice_Image_Dataset/Arborio/Arborio (10678).jpg'),\n",
              " PosixPath('Data/rice-image-dataset/Rice_Image_Dataset/Arborio/Arborio (10679).jpg'),\n",
              " PosixPath('Data/rice-image-dataset/Rice_Image_Dataset/Arborio/Arborio (1068).jpg'),\n",
              " PosixPath('Data/rice-image-dataset/Rice_Image_Dataset/Arborio/Arborio (10680).jpg'),\n",
              " PosixPath('Data/rice-image-dataset/Rice_Image_Dataset/Arborio/Arborio (10681).jpg'),\n",
              " PosixPath('Data/rice-image-dataset/Rice_Image_Dataset/Arborio/Arborio (10682).jpg'),\n",
              " PosixPath('Data/rice-image-dataset/Rice_Image_Dataset/Arborio/Arborio (10683).jpg'),\n",
              " PosixPath('Data/rice-image-dataset/Rice_Image_Dataset/Arborio/Arborio (10684).jpg'),\n",
              " PosixPath('Data/rice-image-dataset/Rice_Image_Dataset/Arborio/Arborio (10685).jpg'),\n",
              " PosixPath('Data/rice-image-dataset/Rice_Image_Dataset/Arborio/Arborio (10686).jpg'),\n",
              " PosixPath('Data/rice-image-dataset/Rice_Image_Dataset/Arborio/Arborio (10687).jpg'),\n",
              " PosixPath('Data/rice-image-dataset/Rice_Image_Dataset/Arborio/Arborio (10688).jpg'),\n",
              " PosixPath('Data/rice-image-dataset/Rice_Image_Dataset/Arborio/Arborio (10689).jpg'),\n",
              " PosixPath('Data/rice-image-dataset/Rice_Image_Dataset/Arborio/Arborio (1069).jpg'),\n",
              " PosixPath('Data/rice-image-dataset/Rice_Image_Dataset/Arborio/Arborio (10690).jpg'),\n",
              " PosixPath('Data/rice-image-dataset/Rice_Image_Dataset/Arborio/Arborio (10691).jpg'),\n",
              " PosixPath('Data/rice-image-dataset/Rice_Image_Dataset/Arborio/Arborio (10692).jpg'),\n",
              " PosixPath('Data/rice-image-dataset/Rice_Image_Dataset/Arborio/Arborio (10693).jpg'),\n",
              " PosixPath('Data/rice-image-dataset/Rice_Image_Dataset/Arborio/Arborio (10694).jpg'),\n",
              " PosixPath('Data/rice-image-dataset/Rice_Image_Dataset/Arborio/Arborio (10695).jpg'),\n",
              " PosixPath('Data/rice-image-dataset/Rice_Image_Dataset/Arborio/Arborio (10696).jpg'),\n",
              " PosixPath('Data/rice-image-dataset/Rice_Image_Dataset/Arborio/Arborio (10697).jpg'),\n",
              " PosixPath('Data/rice-image-dataset/Rice_Image_Dataset/Arborio/Arborio (10698).jpg'),\n",
              " PosixPath('Data/rice-image-dataset/Rice_Image_Dataset/Arborio/Arborio (10699).jpg'),\n",
              " PosixPath('Data/rice-image-dataset/Rice_Image_Dataset/Arborio/Arborio (107).jpg'),\n",
              " PosixPath('Data/rice-image-dataset/Rice_Image_Dataset/Arborio/Arborio (1070).jpg'),\n",
              " PosixPath('Data/rice-image-dataset/Rice_Image_Dataset/Arborio/Arborio (10700).jpg'),\n",
              " PosixPath('Data/rice-image-dataset/Rice_Image_Dataset/Arborio/Arborio (10701).jpg'),\n",
              " PosixPath('Data/rice-image-dataset/Rice_Image_Dataset/Arborio/Arborio (10702).jpg'),\n",
              " PosixPath('Data/rice-image-dataset/Rice_Image_Dataset/Arborio/Arborio (10703).jpg'),\n",
              " PosixPath('Data/rice-image-dataset/Rice_Image_Dataset/Arborio/Arborio (10704).jpg'),\n",
              " PosixPath('Data/rice-image-dataset/Rice_Image_Dataset/Arborio/Arborio (10705).jpg'),\n",
              " PosixPath('Data/rice-image-dataset/Rice_Image_Dataset/Arborio/Arborio (10706).jpg'),\n",
              " PosixPath('Data/rice-image-dataset/Rice_Image_Dataset/Arborio/Arborio (10707).jpg'),\n",
              " PosixPath('Data/rice-image-dataset/Rice_Image_Dataset/Arborio/Arborio (10708).jpg'),\n",
              " PosixPath('Data/rice-image-dataset/Rice_Image_Dataset/Arborio/Arborio (10709).jpg'),\n",
              " PosixPath('Data/rice-image-dataset/Rice_Image_Dataset/Arborio/Arborio (1071).jpg'),\n",
              " PosixPath('Data/rice-image-dataset/Rice_Image_Dataset/Arborio/Arborio (10710).jpg'),\n",
              " PosixPath('Data/rice-image-dataset/Rice_Image_Dataset/Arborio/Arborio (10711).jpg'),\n",
              " PosixPath('Data/rice-image-dataset/Rice_Image_Dataset/Arborio/Arborio (10712).jpg'),\n",
              " PosixPath('Data/rice-image-dataset/Rice_Image_Dataset/Arborio/Arborio (10713).jpg'),\n",
              " PosixPath('Data/rice-image-dataset/Rice_Image_Dataset/Arborio/Arborio (10714).jpg'),\n",
              " PosixPath('Data/rice-image-dataset/Rice_Image_Dataset/Arborio/Arborio (10715).jpg'),\n",
              " PosixPath('Data/rice-image-dataset/Rice_Image_Dataset/Arborio/Arborio (10716).jpg'),\n",
              " PosixPath('Data/rice-image-dataset/Rice_Image_Dataset/Arborio/Arborio (10717).jpg'),\n",
              " PosixPath('Data/rice-image-dataset/Rice_Image_Dataset/Arborio/Arborio (10718).jpg'),\n",
              " PosixPath('Data/rice-image-dataset/Rice_Image_Dataset/Arborio/Arborio (10719).jpg'),\n",
              " PosixPath('Data/rice-image-dataset/Rice_Image_Dataset/Arborio/Arborio (1072).jpg'),\n",
              " PosixPath('Data/rice-image-dataset/Rice_Image_Dataset/Arborio/Arborio (10720).jpg'),\n",
              " PosixPath('Data/rice-image-dataset/Rice_Image_Dataset/Arborio/Arborio (10721).jpg'),\n",
              " PosixPath('Data/rice-image-dataset/Rice_Image_Dataset/Arborio/Arborio (10722).jpg'),\n",
              " PosixPath('Data/rice-image-dataset/Rice_Image_Dataset/Arborio/Arborio (10723).jpg'),\n",
              " PosixPath('Data/rice-image-dataset/Rice_Image_Dataset/Arborio/Arborio (10724).jpg'),\n",
              " PosixPath('Data/rice-image-dataset/Rice_Image_Dataset/Arborio/Arborio (10725).jpg'),\n",
              " PosixPath('Data/rice-image-dataset/Rice_Image_Dataset/Arborio/Arborio (10726).jpg'),\n",
              " PosixPath('Data/rice-image-dataset/Rice_Image_Dataset/Arborio/Arborio (10727).jpg'),\n",
              " PosixPath('Data/rice-image-dataset/Rice_Image_Dataset/Arborio/Arborio (10728).jpg'),\n",
              " PosixPath('Data/rice-image-dataset/Rice_Image_Dataset/Arborio/Arborio (10729).jpg'),\n",
              " PosixPath('Data/rice-image-dataset/Rice_Image_Dataset/Arborio/Arborio (1073).jpg'),\n",
              " PosixPath('Data/rice-image-dataset/Rice_Image_Dataset/Arborio/Arborio (10730).jpg'),\n",
              " PosixPath('Data/rice-image-dataset/Rice_Image_Dataset/Arborio/Arborio (10731).jpg'),\n",
              " PosixPath('Data/rice-image-dataset/Rice_Image_Dataset/Arborio/Arborio (10732).jpg'),\n",
              " PosixPath('Data/rice-image-dataset/Rice_Image_Dataset/Arborio/Arborio (10733).jpg'),\n",
              " PosixPath('Data/rice-image-dataset/Rice_Image_Dataset/Arborio/Arborio (10734).jpg'),\n",
              " PosixPath('Data/rice-image-dataset/Rice_Image_Dataset/Arborio/Arborio (10735).jpg'),\n",
              " PosixPath('Data/rice-image-dataset/Rice_Image_Dataset/Arborio/Arborio (10736).jpg'),\n",
              " PosixPath('Data/rice-image-dataset/Rice_Image_Dataset/Arborio/Arborio (10737).jpg'),\n",
              " PosixPath('Data/rice-image-dataset/Rice_Image_Dataset/Arborio/Arborio (10738).jpg'),\n",
              " PosixPath('Data/rice-image-dataset/Rice_Image_Dataset/Arborio/Arborio (10739).jpg'),\n",
              " PosixPath('Data/rice-image-dataset/Rice_Image_Dataset/Arborio/Arborio (1074).jpg'),\n",
              " PosixPath('Data/rice-image-dataset/Rice_Image_Dataset/Arborio/Arborio (10740).jpg'),\n",
              " PosixPath('Data/rice-image-dataset/Rice_Image_Dataset/Arborio/Arborio (10741).jpg'),\n",
              " PosixPath('Data/rice-image-dataset/Rice_Image_Dataset/Arborio/Arborio (10742).jpg'),\n",
              " PosixPath('Data/rice-image-dataset/Rice_Image_Dataset/Arborio/Arborio (10743).jpg'),\n",
              " PosixPath('Data/rice-image-dataset/Rice_Image_Dataset/Arborio/Arborio (10744).jpg'),\n",
              " PosixPath('Data/rice-image-dataset/Rice_Image_Dataset/Arborio/Arborio (10745).jpg'),\n",
              " PosixPath('Data/rice-image-dataset/Rice_Image_Dataset/Arborio/Arborio (10746).jpg'),\n",
              " PosixPath('Data/rice-image-dataset/Rice_Image_Dataset/Arborio/Arborio (10747).jpg'),\n",
              " PosixPath('Data/rice-image-dataset/Rice_Image_Dataset/Arborio/Arborio (10748).jpg'),\n",
              " PosixPath('Data/rice-image-dataset/Rice_Image_Dataset/Arborio/Arborio (10749).jpg'),\n",
              " PosixPath('Data/rice-image-dataset/Rice_Image_Dataset/Arborio/Arborio (1075).jpg'),\n",
              " PosixPath('Data/rice-image-dataset/Rice_Image_Dataset/Arborio/Arborio (10750).jpg'),\n",
              " PosixPath('Data/rice-image-dataset/Rice_Image_Dataset/Arborio/Arborio (10751).jpg'),\n",
              " PosixPath('Data/rice-image-dataset/Rice_Image_Dataset/Arborio/Arborio (10752).jpg'),\n",
              " PosixPath('Data/rice-image-dataset/Rice_Image_Dataset/Arborio/Arborio (10753).jpg'),\n",
              " PosixPath('Data/rice-image-dataset/Rice_Image_Dataset/Arborio/Arborio (10754).jpg'),\n",
              " PosixPath('Data/rice-image-dataset/Rice_Image_Dataset/Arborio/Arborio (10755).jpg'),\n",
              " PosixPath('Data/rice-image-dataset/Rice_Image_Dataset/Arborio/Arborio (10756).jpg'),\n",
              " PosixPath('Data/rice-image-dataset/Rice_Image_Dataset/Arborio/Arborio (10757).jpg'),\n",
              " PosixPath('Data/rice-image-dataset/Rice_Image_Dataset/Arborio/Arborio (10758).jpg'),\n",
              " PosixPath('Data/rice-image-dataset/Rice_Image_Dataset/Arborio/Arborio (10759).jpg'),\n",
              " PosixPath('Data/rice-image-dataset/Rice_Image_Dataset/Arborio/Arborio (1076).jpg'),\n",
              " PosixPath('Data/rice-image-dataset/Rice_Image_Dataset/Arborio/Arborio (10760).jpg'),\n",
              " PosixPath('Data/rice-image-dataset/Rice_Image_Dataset/Arborio/Arborio (10761).jpg'),\n",
              " PosixPath('Data/rice-image-dataset/Rice_Image_Dataset/Arborio/Arborio (10762).jpg'),\n",
              " PosixPath('Data/rice-image-dataset/Rice_Image_Dataset/Arborio/Arborio (10763).jpg'),\n",
              " PosixPath('Data/rice-image-dataset/Rice_Image_Dataset/Arborio/Arborio (10764).jpg'),\n",
              " PosixPath('Data/rice-image-dataset/Rice_Image_Dataset/Arborio/Arborio (10765).jpg'),\n",
              " PosixPath('Data/rice-image-dataset/Rice_Image_Dataset/Arborio/Arborio (10766).jpg'),\n",
              " PosixPath('Data/rice-image-dataset/Rice_Image_Dataset/Arborio/Arborio (10767).jpg'),\n",
              " PosixPath('Data/rice-image-dataset/Rice_Image_Dataset/Arborio/Arborio (10768).jpg'),\n",
              " PosixPath('Data/rice-image-dataset/Rice_Image_Dataset/Arborio/Arborio (10769).jpg'),\n",
              " PosixPath('Data/rice-image-dataset/Rice_Image_Dataset/Arborio/Arborio (1077).jpg'),\n",
              " PosixPath('Data/rice-image-dataset/Rice_Image_Dataset/Arborio/Arborio (10770).jpg'),\n",
              " PosixPath('Data/rice-image-dataset/Rice_Image_Dataset/Arborio/Arborio (10771).jpg'),\n",
              " PosixPath('Data/rice-image-dataset/Rice_Image_Dataset/Arborio/Arborio (10772).jpg'),\n",
              " PosixPath('Data/rice-image-dataset/Rice_Image_Dataset/Arborio/Arborio (10773).jpg'),\n",
              " PosixPath('Data/rice-image-dataset/Rice_Image_Dataset/Arborio/Arborio (10774).jpg'),\n",
              " PosixPath('Data/rice-image-dataset/Rice_Image_Dataset/Arborio/Arborio (10775).jpg'),\n",
              " PosixPath('Data/rice-image-dataset/Rice_Image_Dataset/Arborio/Arborio (10776).jpg'),\n",
              " PosixPath('Data/rice-image-dataset/Rice_Image_Dataset/Arborio/Arborio (10777).jpg'),\n",
              " PosixPath('Data/rice-image-dataset/Rice_Image_Dataset/Arborio/Arborio (10778).jpg'),\n",
              " PosixPath('Data/rice-image-dataset/Rice_Image_Dataset/Arborio/Arborio (10779).jpg'),\n",
              " PosixPath('Data/rice-image-dataset/Rice_Image_Dataset/Arborio/Arborio (1078).jpg'),\n",
              " PosixPath('Data/rice-image-dataset/Rice_Image_Dataset/Arborio/Arborio (10780).jpg'),\n",
              " PosixPath('Data/rice-image-dataset/Rice_Image_Dataset/Arborio/Arborio (10781).jpg'),\n",
              " PosixPath('Data/rice-image-dataset/Rice_Image_Dataset/Arborio/Arborio (10782).jpg'),\n",
              " PosixPath('Data/rice-image-dataset/Rice_Image_Dataset/Arborio/Arborio (10783).jpg'),\n",
              " PosixPath('Data/rice-image-dataset/Rice_Image_Dataset/Arborio/Arborio (10784).jpg'),\n",
              " PosixPath('Data/rice-image-dataset/Rice_Image_Dataset/Arborio/Arborio (10785).jpg'),\n",
              " PosixPath('Data/rice-image-dataset/Rice_Image_Dataset/Arborio/Arborio (10786).jpg'),\n",
              " PosixPath('Data/rice-image-dataset/Rice_Image_Dataset/Arborio/Arborio (10787).jpg'),\n",
              " PosixPath('Data/rice-image-dataset/Rice_Image_Dataset/Arborio/Arborio (10788).jpg'),\n",
              " PosixPath('Data/rice-image-dataset/Rice_Image_Dataset/Arborio/Arborio (10789).jpg'),\n",
              " PosixPath('Data/rice-image-dataset/Rice_Image_Dataset/Arborio/Arborio (1079).jpg'),\n",
              " PosixPath('Data/rice-image-dataset/Rice_Image_Dataset/Arborio/Arborio (10790).jpg'),\n",
              " PosixPath('Data/rice-image-dataset/Rice_Image_Dataset/Arborio/Arborio (10791).jpg'),\n",
              " PosixPath('Data/rice-image-dataset/Rice_Image_Dataset/Arborio/Arborio (10792).jpg'),\n",
              " PosixPath('Data/rice-image-dataset/Rice_Image_Dataset/Arborio/Arborio (10793).jpg'),\n",
              " PosixPath('Data/rice-image-dataset/Rice_Image_Dataset/Arborio/Arborio (10794).jpg'),\n",
              " PosixPath('Data/rice-image-dataset/Rice_Image_Dataset/Arborio/Arborio (10795).jpg'),\n",
              " PosixPath('Data/rice-image-dataset/Rice_Image_Dataset/Arborio/Arborio (10796).jpg'),\n",
              " PosixPath('Data/rice-image-dataset/Rice_Image_Dataset/Arborio/Arborio (10797).jpg'),\n",
              " PosixPath('Data/rice-image-dataset/Rice_Image_Dataset/Arborio/Arborio (10798).jpg'),\n",
              " PosixPath('Data/rice-image-dataset/Rice_Image_Dataset/Arborio/Arborio (10799).jpg'),\n",
              " PosixPath('Data/rice-image-dataset/Rice_Image_Dataset/Arborio/Arborio (108).jpg'),\n",
              " PosixPath('Data/rice-image-dataset/Rice_Image_Dataset/Arborio/Arborio (1080).jpg'),\n",
              " PosixPath('Data/rice-image-dataset/Rice_Image_Dataset/Arborio/Arborio (10800).jpg'),\n",
              " PosixPath('Data/rice-image-dataset/Rice_Image_Dataset/Arborio/Arborio (10801).jpg'),\n",
              " PosixPath('Data/rice-image-dataset/Rice_Image_Dataset/Arborio/Arborio (10802).jpg'),\n",
              " PosixPath('Data/rice-image-dataset/Rice_Image_Dataset/Arborio/Arborio (10803).jpg'),\n",
              " PosixPath('Data/rice-image-dataset/Rice_Image_Dataset/Arborio/Arborio (10804).jpg'),\n",
              " PosixPath('Data/rice-image-dataset/Rice_Image_Dataset/Arborio/Arborio (10805).jpg'),\n",
              " PosixPath('Data/rice-image-dataset/Rice_Image_Dataset/Arborio/Arborio (10806).jpg'),\n",
              " PosixPath('Data/rice-image-dataset/Rice_Image_Dataset/Arborio/Arborio (10807).jpg'),\n",
              " PosixPath('Data/rice-image-dataset/Rice_Image_Dataset/Arborio/Arborio (10808).jpg'),\n",
              " PosixPath('Data/rice-image-dataset/Rice_Image_Dataset/Arborio/Arborio (10809).jpg'),\n",
              " PosixPath('Data/rice-image-dataset/Rice_Image_Dataset/Arborio/Arborio (1081).jpg'),\n",
              " PosixPath('Data/rice-image-dataset/Rice_Image_Dataset/Arborio/Arborio (10810).jpg'),\n",
              " PosixPath('Data/rice-image-dataset/Rice_Image_Dataset/Arborio/Arborio (10811).jpg'),\n",
              " PosixPath('Data/rice-image-dataset/Rice_Image_Dataset/Arborio/Arborio (10812).jpg'),\n",
              " PosixPath('Data/rice-image-dataset/Rice_Image_Dataset/Arborio/Arborio (10813).jpg'),\n",
              " PosixPath('Data/rice-image-dataset/Rice_Image_Dataset/Arborio/Arborio (10814).jpg'),\n",
              " PosixPath('Data/rice-image-dataset/Rice_Image_Dataset/Arborio/Arborio (10815).jpg'),\n",
              " PosixPath('Data/rice-image-dataset/Rice_Image_Dataset/Arborio/Arborio (10816).jpg'),\n",
              " PosixPath('Data/rice-image-dataset/Rice_Image_Dataset/Arborio/Arborio (10817).jpg'),\n",
              " PosixPath('Data/rice-image-dataset/Rice_Image_Dataset/Arborio/Arborio (10818).jpg'),\n",
              " PosixPath('Data/rice-image-dataset/Rice_Image_Dataset/Arborio/Arborio (10819).jpg'),\n",
              " PosixPath('Data/rice-image-dataset/Rice_Image_Dataset/Arborio/Arborio (1082).jpg'),\n",
              " PosixPath('Data/rice-image-dataset/Rice_Image_Dataset/Arborio/Arborio (10820).jpg'),\n",
              " PosixPath('Data/rice-image-dataset/Rice_Image_Dataset/Arborio/Arborio (10821).jpg'),\n",
              " PosixPath('Data/rice-image-dataset/Rice_Image_Dataset/Arborio/Arborio (10822).jpg'),\n",
              " PosixPath('Data/rice-image-dataset/Rice_Image_Dataset/Arborio/Arborio (10823).jpg'),\n",
              " PosixPath('Data/rice-image-dataset/Rice_Image_Dataset/Arborio/Arborio (10824).jpg'),\n",
              " PosixPath('Data/rice-image-dataset/Rice_Image_Dataset/Arborio/Arborio (10825).jpg'),\n",
              " PosixPath('Data/rice-image-dataset/Rice_Image_Dataset/Arborio/Arborio (10826).jpg'),\n",
              " PosixPath('Data/rice-image-dataset/Rice_Image_Dataset/Arborio/Arborio (10827).jpg'),\n",
              " PosixPath('Data/rice-image-dataset/Rice_Image_Dataset/Arborio/Arborio (10828).jpg'),\n",
              " PosixPath('Data/rice-image-dataset/Rice_Image_Dataset/Arborio/Arborio (10829).jpg'),\n",
              " PosixPath('Data/rice-image-dataset/Rice_Image_Dataset/Arborio/Arborio (1083).jpg'),\n",
              " PosixPath('Data/rice-image-dataset/Rice_Image_Dataset/Arborio/Arborio (10830).jpg'),\n",
              " PosixPath('Data/rice-image-dataset/Rice_Image_Dataset/Arborio/Arborio (10831).jpg'),\n",
              " PosixPath('Data/rice-image-dataset/Rice_Image_Dataset/Arborio/Arborio (10832).jpg'),\n",
              " PosixPath('Data/rice-image-dataset/Rice_Image_Dataset/Arborio/Arborio (10833).jpg'),\n",
              " PosixPath('Data/rice-image-dataset/Rice_Image_Dataset/Arborio/Arborio (10834).jpg'),\n",
              " PosixPath('Data/rice-image-dataset/Rice_Image_Dataset/Arborio/Arborio (10835).jpg'),\n",
              " PosixPath('Data/rice-image-dataset/Rice_Image_Dataset/Arborio/Arborio (10836).jpg'),\n",
              " PosixPath('Data/rice-image-dataset/Rice_Image_Dataset/Arborio/Arborio (10837).jpg'),\n",
              " PosixPath('Data/rice-image-dataset/Rice_Image_Dataset/Arborio/Arborio (10838).jpg'),\n",
              " PosixPath('Data/rice-image-dataset/Rice_Image_Dataset/Arborio/Arborio (10839).jpg'),\n",
              " PosixPath('Data/rice-image-dataset/Rice_Image_Dataset/Arborio/Arborio (1084).jpg'),\n",
              " PosixPath('Data/rice-image-dataset/Rice_Image_Dataset/Arborio/Arborio (10840).jpg'),\n",
              " PosixPath('Data/rice-image-dataset/Rice_Image_Dataset/Arborio/Arborio (10841).jpg'),\n",
              " PosixPath('Data/rice-image-dataset/Rice_Image_Dataset/Arborio/Arborio (10842).jpg'),\n",
              " PosixPath('Data/rice-image-dataset/Rice_Image_Dataset/Arborio/Arborio (10843).jpg'),\n",
              " PosixPath('Data/rice-image-dataset/Rice_Image_Dataset/Arborio/Arborio (10844).jpg'),\n",
              " PosixPath('Data/rice-image-dataset/Rice_Image_Dataset/Arborio/Arborio (10845).jpg'),\n",
              " PosixPath('Data/rice-image-dataset/Rice_Image_Dataset/Arborio/Arborio (10846).jpg'),\n",
              " PosixPath('Data/rice-image-dataset/Rice_Image_Dataset/Arborio/Arborio (10847).jpg'),\n",
              " PosixPath('Data/rice-image-dataset/Rice_Image_Dataset/Arborio/Arborio (10848).jpg'),\n",
              " PosixPath('Data/rice-image-dataset/Rice_Image_Dataset/Arborio/Arborio (10849).jpg'),\n",
              " PosixPath('Data/rice-image-dataset/Rice_Image_Dataset/Arborio/Arborio (1085).jpg'),\n",
              " PosixPath('Data/rice-image-dataset/Rice_Image_Dataset/Arborio/Arborio (10850).jpg'),\n",
              " PosixPath('Data/rice-image-dataset/Rice_Image_Dataset/Arborio/Arborio (10851).jpg'),\n",
              " PosixPath('Data/rice-image-dataset/Rice_Image_Dataset/Arborio/Arborio (10852).jpg'),\n",
              " PosixPath('Data/rice-image-dataset/Rice_Image_Dataset/Arborio/Arborio (10853).jpg'),\n",
              " PosixPath('Data/rice-image-dataset/Rice_Image_Dataset/Arborio/Arborio (10854).jpg'),\n",
              " PosixPath('Data/rice-image-dataset/Rice_Image_Dataset/Arborio/Arborio (10855).jpg'),\n",
              " PosixPath('Data/rice-image-dataset/Rice_Image_Dataset/Arborio/Arborio (10856).jpg'),\n",
              " PosixPath('Data/rice-image-dataset/Rice_Image_Dataset/Arborio/Arborio (10857).jpg'),\n",
              " PosixPath('Data/rice-image-dataset/Rice_Image_Dataset/Arborio/Arborio (10858).jpg'),\n",
              " PosixPath('Data/rice-image-dataset/Rice_Image_Dataset/Arborio/Arborio (10859).jpg'),\n",
              " PosixPath('Data/rice-image-dataset/Rice_Image_Dataset/Arborio/Arborio (1086).jpg'),\n",
              " PosixPath('Data/rice-image-dataset/Rice_Image_Dataset/Arborio/Arborio (10860).jpg'),\n",
              " PosixPath('Data/rice-image-dataset/Rice_Image_Dataset/Arborio/Arborio (10861).jpg'),\n",
              " PosixPath('Data/rice-image-dataset/Rice_Image_Dataset/Arborio/Arborio (10862).jpg'),\n",
              " PosixPath('Data/rice-image-dataset/Rice_Image_Dataset/Arborio/Arborio (10863).jpg'),\n",
              " PosixPath('Data/rice-image-dataset/Rice_Image_Dataset/Arborio/Arborio (10864).jpg'),\n",
              " PosixPath('Data/rice-image-dataset/Rice_Image_Dataset/Arborio/Arborio (10865).jpg'),\n",
              " PosixPath('Data/rice-image-dataset/Rice_Image_Dataset/Arborio/Arborio (10866).jpg'),\n",
              " PosixPath('Data/rice-image-dataset/Rice_Image_Dataset/Arborio/Arborio (10867).jpg'),\n",
              " PosixPath('Data/rice-image-dataset/Rice_Image_Dataset/Arborio/Arborio (10868).jpg'),\n",
              " PosixPath('Data/rice-image-dataset/Rice_Image_Dataset/Arborio/Arborio (10869).jpg'),\n",
              " PosixPath('Data/rice-image-dataset/Rice_Image_Dataset/Arborio/Arborio (1087).jpg'),\n",
              " PosixPath('Data/rice-image-dataset/Rice_Image_Dataset/Arborio/Arborio (10870).jpg'),\n",
              " PosixPath('Data/rice-image-dataset/Rice_Image_Dataset/Arborio/Arborio (10871).jpg'),\n",
              " PosixPath('Data/rice-image-dataset/Rice_Image_Dataset/Arborio/Arborio (10872).jpg'),\n",
              " PosixPath('Data/rice-image-dataset/Rice_Image_Dataset/Arborio/Arborio (10873).jpg'),\n",
              " PosixPath('Data/rice-image-dataset/Rice_Image_Dataset/Arborio/Arborio (10874).jpg'),\n",
              " PosixPath('Data/rice-image-dataset/Rice_Image_Dataset/Arborio/Arborio (10875).jpg'),\n",
              " PosixPath('Data/rice-image-dataset/Rice_Image_Dataset/Arborio/Arborio (10876).jpg'),\n",
              " PosixPath('Data/rice-image-dataset/Rice_Image_Dataset/Arborio/Arborio (10877).jpg'),\n",
              " PosixPath('Data/rice-image-dataset/Rice_Image_Dataset/Arborio/Arborio (10878).jpg'),\n",
              " PosixPath('Data/rice-image-dataset/Rice_Image_Dataset/Arborio/Arborio (10879).jpg'),\n",
              " PosixPath('Data/rice-image-dataset/Rice_Image_Dataset/Arborio/Arborio (1088).jpg'),\n",
              " PosixPath('Data/rice-image-dataset/Rice_Image_Dataset/Arborio/Arborio (10880).jpg'),\n",
              " PosixPath('Data/rice-image-dataset/Rice_Image_Dataset/Arborio/Arborio (10881).jpg'),\n",
              " PosixPath('Data/rice-image-dataset/Rice_Image_Dataset/Arborio/Arborio (10882).jpg'),\n",
              " PosixPath('Data/rice-image-dataset/Rice_Image_Dataset/Arborio/Arborio (10883).jpg'),\n",
              " PosixPath('Data/rice-image-dataset/Rice_Image_Dataset/Arborio/Arborio (10884).jpg'),\n",
              " PosixPath('Data/rice-image-dataset/Rice_Image_Dataset/Arborio/Arborio (10885).jpg'),\n",
              " PosixPath('Data/rice-image-dataset/Rice_Image_Dataset/Arborio/Arborio (10886).jpg'),\n",
              " PosixPath('Data/rice-image-dataset/Rice_Image_Dataset/Arborio/Arborio (10887).jpg'),\n",
              " PosixPath('Data/rice-image-dataset/Rice_Image_Dataset/Arborio/Arborio (10888).jpg'),\n",
              " PosixPath('Data/rice-image-dataset/Rice_Image_Dataset/Arborio/Arborio (10889).jpg'),\n",
              " PosixPath('Data/rice-image-dataset/Rice_Image_Dataset/Arborio/Arborio (1089).jpg'),\n",
              " PosixPath('Data/rice-image-dataset/Rice_Image_Dataset/Arborio/Arborio (10890).jpg'),\n",
              " PosixPath('Data/rice-image-dataset/Rice_Image_Dataset/Arborio/Arborio (10891).jpg'),\n",
              " PosixPath('Data/rice-image-dataset/Rice_Image_Dataset/Arborio/Arborio (10892).jpg'),\n",
              " PosixPath('Data/rice-image-dataset/Rice_Image_Dataset/Arborio/Arborio (10893).jpg'),\n",
              " PosixPath('Data/rice-image-dataset/Rice_Image_Dataset/Arborio/Arborio (10894).jpg'),\n",
              " PosixPath('Data/rice-image-dataset/Rice_Image_Dataset/Arborio/Arborio (10895).jpg'),\n",
              " PosixPath('Data/rice-image-dataset/Rice_Image_Dataset/Arborio/Arborio (10896).jpg'),\n",
              " PosixPath('Data/rice-image-dataset/Rice_Image_Dataset/Arborio/Arborio (10897).jpg'),\n",
              " PosixPath('Data/rice-image-dataset/Rice_Image_Dataset/Arborio/Arborio (10898).jpg'),\n",
              " ...]"
            ]
          },
          "metadata": {},
          "execution_count": 9
        }
      ]
    },
    {
      "cell_type": "markdown",
      "source": [
        "## Visualizing some samples"
      ],
      "metadata": {
        "id": "ab4_b8SVI1k8"
      }
    },
    {
      "cell_type": "code",
      "source": [
        "import torch\n",
        "from torch import nn\n",
        "from torchvision import datasets\n",
        "from torchvision import transforms\n",
        "from torch.utils.data import DataLoader"
      ],
      "metadata": {
        "id": "W6ErWCFrtlVh"
      },
      "execution_count": 10,
      "outputs": []
    },
    {
      "cell_type": "code",
      "source": [
        "simple_transform = transforms.Compose([\n",
        "    transforms.Resize(size=(64, 64)),\n",
        "    transforms.ToTensor()\n",
        "])"
      ],
      "metadata": {
        "id": "0AbdX-XL-o6T"
      },
      "execution_count": 11,
      "outputs": []
    },
    {
      "cell_type": "code",
      "source": [
        "import numpy as np\n",
        "import random\n",
        "import matplotlib.pyplot as plt\n",
        "from PIL import Image\n",
        "\n",
        "def plot_random_samples(images, n : int = 6):\n",
        "  random_img = random.sample(images, n)\n",
        "  rows = 3\n",
        "  cols = 2\n",
        "  for i, img in enumerate(random_img):\n",
        "    if i % 2 == 0:\n",
        "      img = Image.open(img)\n",
        "      transformed_img = simple_transform(img)\n",
        "      img = np.asarray(img)\n",
        "      plt.subplot(rows, cols, i+1)\n",
        "      plt.title('Original Image')\n",
        "      plt.axis(False)\n",
        "      plt.imshow(img)\n",
        "      plt.subplot(rows, cols, i+2)\n",
        "      plt.title('transformed Image')\n",
        "      plt.axis(False)\n",
        "      plt.imshow(transformed_img.permute(1, 2, 0))"
      ],
      "metadata": {
        "id": "ZlS3L6I18HYe"
      },
      "execution_count": 12,
      "outputs": []
    },
    {
      "cell_type": "code",
      "source": [
        "plot_random_samples(images_list)"
      ],
      "metadata": {
        "colab": {
          "base_uri": "https://localhost:8080/",
          "height": 428
        },
        "id": "bMJ3Fi749Gtq",
        "outputId": "00f50ab0-e455-4dc9-b206-13ddc65ba643"
      },
      "execution_count": 13,
      "outputs": [
        {
          "output_type": "display_data",
          "data": {
            "text/plain": [
              "<Figure size 640x480 with 6 Axes>"
            ],
            "image/png": "[encoded data removed]"
          },
          "metadata": {}
        }
      ]
    },
    {
      "cell_type": "markdown",
      "source": [
        "## Creating Datasets and DataLoaders"
      ],
      "metadata": {
        "id": "JVYgD2EpXwJa"
      }
    },
    {
      "cell_type": "code",
      "source": [
        "data = data_dir / 'rice-image-dataset' / 'Rice_Image_Dataset'\n",
        "data"
      ],
      "metadata": {
        "colab": {
          "base_uri": "https://localhost:8080/"
        },
        "id": "6W8qte-qMgS5",
        "outputId": "0ee9b556-032b-4dd1-ccc6-67617fb09f5a"
      },
      "execution_count": 57,
      "outputs": [
        {
          "output_type": "execute_result",
          "data": {
            "text/plain": [
              "PosixPath('Data/rice-image-dataset/Rice_Image_Dataset')"
            ]
          },
          "metadata": {},
          "execution_count": 57
        }
      ]
    },
    {
      "cell_type": "code",
      "source": [
        "rice_data = datasets.ImageFolder(root= data, transform= simple_transform)\n",
        "rice_data"
      ],
      "metadata": {
        "colab": {
          "base_uri": "https://localhost:8080/"
        },
        "id": "ZYXEHhyJL8-Z",
        "outputId": "dd3155a1-8a01-4328-9d46-94d0a180d931"
      },
      "execution_count": 58,
      "outputs": [
        {
          "output_type": "execute_result",
          "data": {
            "text/plain": [
              "Dataset ImageFolder\n",
              "    Number of datapoints: 75000\n",
              "    Root location: Data/rice-image-dataset/Rice_Image_Dataset\n",
              "    StandardTransform\n",
              "Transform: Compose(\n",
              "               Resize(size=(64, 64), interpolation=bilinear, max_size=None, antialias=True)\n",
              "               ToTensor()\n",
              "           )"
            ]
          },
          "metadata": {},
          "execution_count": 58
        }
      ]
    },
    {
      "cell_type": "code",
      "source": [
        "from torch.utils.data import random_split\n",
        "\n",
        "train_split = int(0.75 * len(rice_data))\n",
        "test_size = len(rice_data) - train_split\n",
        "\n",
        "train_data, test_data = random_split(rice_data, [train_split, test_size])\n",
        "len(train_data), len(test_data)"
      ],
      "metadata": {
        "colab": {
          "base_uri": "https://localhost:8080/"
        },
        "id": "FAlgNhPSm6sk",
        "outputId": "90d1d466-198b-4f6c-baa5-0ce9e76ea392"
      },
      "execution_count": 62,
      "outputs": [
        {
          "output_type": "execute_result",
          "data": {
            "text/plain": [
              "(56250, 18750)"
            ]
          },
          "metadata": {},
          "execution_count": 62
        }
      ]
    },
    {
      "cell_type": "code",
      "source": [
        "train_data, test_data"
      ],
      "metadata": {
        "colab": {
          "base_uri": "https://localhost:8080/"
        },
        "id": "GTvOZHninmuv",
        "outputId": "a9009b01-5545-444b-de8b-e0e7e408187c"
      },
      "execution_count": 63,
      "outputs": [
        {
          "output_type": "execute_result",
          "data": {
            "text/plain": [
              "(<torch.utils.data.dataset.Subset at 0x7e21cc2363e0>,\n",
              " <torch.utils.data.dataset.Subset at 0x7e20dfc1b460>)"
            ]
          },
          "metadata": {},
          "execution_count": 63
        }
      ]
    },
    {
      "cell_type": "code",
      "source": [
        "BATCH_SIZE = 32\n",
        "train_dataloader = DataLoader(dataset= train_data, batch_size= BATCH_SIZE, shuffle= True)\n",
        "test_dataloader = DataLoader(dataset= test_data, batch_size=BATCH_SIZE, shuffle= False)\n",
        "train_dataloader, test_dataloader"
      ],
      "metadata": {
        "colab": {
          "base_uri": "https://localhost:8080/"
        },
        "id": "06IC_pmPIm4f",
        "outputId": "e0f3bcb3-af22-4c83-8e22-f1a631bc807c"
      },
      "execution_count": 64,
      "outputs": [
        {
          "output_type": "execute_result",
          "data": {
            "text/plain": [
              "(<torch.utils.data.dataloader.DataLoader at 0x7e20dfc18070>,\n",
              " <torch.utils.data.dataloader.DataLoader at 0x7e2066e4fbe0>)"
            ]
          },
          "metadata": {},
          "execution_count": 64
        }
      ]
    },
    {
      "cell_type": "code",
      "source": [
        "images, label = next(iter(train_dataloader))\n",
        "images.shape, label.shape"
      ],
      "metadata": {
        "colab": {
          "base_uri": "https://localhost:8080/"
        },
        "id": "F7GygOlTWPrQ",
        "outputId": "5b4e793f-45dd-4a45-8299-4dcc92d2723e"
      },
      "execution_count": 65,
      "outputs": [
        {
          "output_type": "execute_result",
          "data": {
            "text/plain": [
              "(torch.Size([32, 3, 64, 64]), torch.Size([32]))"
            ]
          },
          "metadata": {},
          "execution_count": 65
        }
      ]
    },
    {
      "cell_type": "code",
      "source": [
        "dir = data_dir / 'rice-image-dataset' / 'Rice_Image_Dataset'\n",
        "dir"
      ],
      "metadata": {
        "colab": {
          "base_uri": "https://localhost:8080/"
        },
        "id": "ilvp8zyaUR0r",
        "outputId": "d6c8bb8c-5362-436a-defd-31cb06508ed1"
      },
      "execution_count": 66,
      "outputs": [
        {
          "output_type": "execute_result",
          "data": {
            "text/plain": [
              "PosixPath('Data/rice-image-dataset/Rice_Image_Dataset')"
            ]
          },
          "metadata": {},
          "execution_count": 66
        }
      ]
    },
    {
      "cell_type": "code",
      "source": [
        "#extracting class_names from rice data through `os.scandir()`\n",
        "\n",
        "class_names = sorted(entry.name for entry in os.scandir(dir) if entry.is_dir())\n",
        "class_names"
      ],
      "metadata": {
        "colab": {
          "base_uri": "https://localhost:8080/"
        },
        "id": "0zwIDiG2pw6w",
        "outputId": "f3158e31-08a2-4101-f99a-af99124c72fb"
      },
      "execution_count": 67,
      "outputs": [
        {
          "output_type": "execute_result",
          "data": {
            "text/plain": [
              "['Arborio', 'Basmati', 'Ipsala', 'Jasmine', 'Karacadag']"
            ]
          },
          "metadata": {},
          "execution_count": 67
        }
      ]
    },
    {
      "cell_type": "code",
      "source": [
        "device = 'cuda' if torch.cuda.is_available() else 'cpu'\n",
        "device"
      ],
      "metadata": {
        "id": "Lxv8Y_MgWsjg",
        "colab": {
          "base_uri": "https://localhost:8080/",
          "height": 36
        },
        "outputId": "81b73453-cb53-4a89-f2b0-e9b97b31bf28"
      },
      "execution_count": 68,
      "outputs": [
        {
          "output_type": "execute_result",
          "data": {
            "text/plain": [
              "'cuda'"
            ],
            "application/vnd.google.colaboratory.intrinsic+json": {
              "type": "string"
            }
          },
          "metadata": {},
          "execution_count": 68
        }
      ]
    },
    {
      "cell_type": "markdown",
      "source": [
        "## Creating Tiny VGG Model"
      ],
      "metadata": {
        "id": "4k6ge6QDnC7R"
      }
    },
    {
      "cell_type": "code",
      "source": [
        "class TinyVGGModel(nn.Module):\n",
        "  def __init__(self, input_shape,\n",
        "               hidden_units, output_shape):\n",
        "    super().__init__()\n",
        "    self.block_1 = nn.Sequential(\n",
        "        nn.Conv2d(in_channels=input_shape, out_channels= hidden_units,\n",
        "                  kernel_size= 3,\n",
        "                  stride= 1,\n",
        "                  padding= 0),\n",
        "        nn.ReLU(),\n",
        "        nn.Conv2d(in_channels= hidden_units, out_channels= hidden_units,\n",
        "                  kernel_size= 3,\n",
        "                  stride= 1,\n",
        "                  padding= 0),\n",
        "        nn.ReLU(),\n",
        "        nn.MaxPool2d(kernel_size= 2)\n",
        "    )\n",
        "\n",
        "    self.block_2 = nn.Sequential(\n",
        "        nn.Conv2d(in_channels=hidden_units, out_channels= hidden_units,\n",
        "                  kernel_size= 3,\n",
        "                  stride= 1,\n",
        "                  padding= 0),\n",
        "        nn.ReLU(),\n",
        "        nn.Conv2d(in_channels= hidden_units, out_channels= hidden_units,\n",
        "                  kernel_size= 3,\n",
        "                  stride= 1,\n",
        "                  padding= 0),\n",
        "        nn.ReLU(),\n",
        "        nn.MaxPool2d(kernel_size= 2)\n",
        "    )\n",
        "\n",
        "    self.classifier = nn.Sequential(\n",
        "        nn.Flatten(),\n",
        "        nn.Linear(in_features= hidden_units*13*13, out_features= output_shape)\n",
        "    )\n",
        "\n",
        "  def forward(self, x):\n",
        "    return self.classifier(self.block_2(self.block_1(x)))\n",
        "\n",
        "model_0 = TinyVGGModel(input_shape= 3, hidden_units= 10,\n",
        "                       output_shape= len(class_names)).to(device)\n",
        "model_0"
      ],
      "metadata": {
        "colab": {
          "base_uri": "https://localhost:8080/"
        },
        "id": "BPdEalm9m_2b",
        "outputId": "635c7d4c-4102-439f-8a7d-e74ebaa649dd"
      },
      "execution_count": 69,
      "outputs": [
        {
          "output_type": "execute_result",
          "data": {
            "text/plain": [
              "TinyVGGModel(\n",
              "  (block_1): Sequential(\n",
              "    (0): Conv2d(3, 10, kernel_size=(3, 3), stride=(1, 1))\n",
              "    (1): ReLU()\n",
              "    (2): Conv2d(10, 10, kernel_size=(3, 3), stride=(1, 1))\n",
              "    (3): ReLU()\n",
              "    (4): MaxPool2d(kernel_size=2, stride=2, padding=0, dilation=1, ceil_mode=False)\n",
              "  )\n",
              "  (block_2): Sequential(\n",
              "    (0): Conv2d(10, 10, kernel_size=(3, 3), stride=(1, 1))\n",
              "    (1): ReLU()\n",
              "    (2): Conv2d(10, 10, kernel_size=(3, 3), stride=(1, 1))\n",
              "    (3): ReLU()\n",
              "    (4): MaxPool2d(kernel_size=2, stride=2, padding=0, dilation=1, ceil_mode=False)\n",
              "  )\n",
              "  (classifier): Sequential(\n",
              "    (0): Flatten(start_dim=1, end_dim=-1)\n",
              "    (1): Linear(in_features=1690, out_features=5, bias=True)\n",
              "  )\n",
              ")"
            ]
          },
          "metadata": {},
          "execution_count": 69
        }
      ]
    },
    {
      "cell_type": "code",
      "source": [
        "from torchinfo import summary\n",
        "\n",
        "summary = summary(model_0, input_size= [1, 3, 64, 64])\n",
        "summary"
      ],
      "metadata": {
        "colab": {
          "base_uri": "https://localhost:8080/"
        },
        "id": "x8b2XLNDrVUO",
        "outputId": "800d1f06-ac34-44b7-a942-fcd91bd92e81"
      },
      "execution_count": 70,
      "outputs": [
        {
          "output_type": "execute_result",
          "data": {
            "text/plain": [
              "==========================================================================================\n",
              "Layer (type:depth-idx)                   Output Shape              Param #\n",
              "==========================================================================================\n",
              "TinyVGGModel                             [1, 5]                    --\n",
              "├─Sequential: 1-1                        [1, 10, 30, 30]           --\n",
              "│    └─Conv2d: 2-1                       [1, 10, 62, 62]           280\n",
              "│    └─ReLU: 2-2                         [1, 10, 62, 62]           --\n",
              "│    └─Conv2d: 2-3                       [1, 10, 60, 60]           910\n",
              "│    └─ReLU: 2-4                         [1, 10, 60, 60]           --\n",
              "│    └─MaxPool2d: 2-5                    [1, 10, 30, 30]           --\n",
              "├─Sequential: 1-2                        [1, 10, 13, 13]           --\n",
              "│    └─Conv2d: 2-6                       [1, 10, 28, 28]           910\n",
              "│    └─ReLU: 2-7                         [1, 10, 28, 28]           --\n",
              "│    └─Conv2d: 2-8                       [1, 10, 26, 26]           910\n",
              "│    └─ReLU: 2-9                         [1, 10, 26, 26]           --\n",
              "│    └─MaxPool2d: 2-10                   [1, 10, 13, 13]           --\n",
              "├─Sequential: 1-3                        [1, 5]                    --\n",
              "│    └─Flatten: 2-11                     [1, 1690]                 --\n",
              "│    └─Linear: 2-12                      [1, 5]                    8,455\n",
              "==========================================================================================\n",
              "Total params: 11,465\n",
              "Trainable params: 11,465\n",
              "Non-trainable params: 0\n",
              "Total mult-adds (M): 5.69\n",
              "==========================================================================================\n",
              "Input size (MB): 0.05\n",
              "Forward/backward pass size (MB): 0.71\n",
              "Params size (MB): 0.05\n",
              "Estimated Total Size (MB): 0.81\n",
              "=========================================================================================="
            ]
          },
          "metadata": {},
          "execution_count": 70
        }
      ]
    },
    {
      "cell_type": "code",
      "source": [
        "loss_fn = nn.CrossEntropyLoss()\n",
        "optimizer = torch.optim.Adam(params= model_0.parameters(), lr= 0.001)"
      ],
      "metadata": {
        "id": "ccs8zj_MrljR"
      },
      "execution_count": 71,
      "outputs": []
    },
    {
      "cell_type": "code",
      "source": [
        "from torchmetrics import Accuracy\n",
        "\n",
        "accuracy = Accuracy(task='multiclass', num_classes= len(class_names)).to(device)\n",
        "accuracy"
      ],
      "metadata": {
        "colab": {
          "base_uri": "https://localhost:8080/"
        },
        "id": "tiahAGY2r8Is",
        "outputId": "c1bdbbc3-a98f-436a-f99f-f0b4d51e2994"
      },
      "execution_count": 72,
      "outputs": [
        {
          "output_type": "execute_result",
          "data": {
            "text/plain": [
              "MulticlassAccuracy()"
            ]
          },
          "metadata": {},
          "execution_count": 72
        }
      ]
    },
    {
      "cell_type": "markdown",
      "source": [
        "## Training and testing Model"
      ],
      "metadata": {
        "id": "OCSLaveBsVPG"
      }
    },
    {
      "cell_type": "code",
      "source": [
        "def train_step(model, dataloader, loss_fn, optimizer, accuracy, device=device):\n",
        "  model.train()\n",
        "  train_loss, train_acc = 0, 0\n",
        "  for X, y in dataloader:\n",
        "    X, y = X.to(device), y.to(device)\n",
        "    y_logits = model(X)\n",
        "    y_preds = torch.argmax(y_logits, dim= 1)\n",
        "    loss = loss_fn(y_logits, y)\n",
        "    train_loss += loss\n",
        "    train_acc += accuracy(y_preds, y)\n",
        "    optimizer.zero_grad()\n",
        "    loss.backward()\n",
        "    optimizer.step()\n",
        "  train_loss /= len(dataloader)\n",
        "  train_acc /= len(dataloader)\n",
        "  print(f\"train_loss: {train_loss} | train_acc: {train_acc}\")\n",
        "  return train_loss, train_acc"
      ],
      "metadata": {
        "id": "HLj7RsuZsR3k"
      },
      "execution_count": 73,
      "outputs": []
    },
    {
      "cell_type": "code",
      "source": [
        "def test_step(model, dataloader, loss_fn, accuracy, device=device):\n",
        "  model.eval()\n",
        "  test_loss, test_acc = 0, 0\n",
        "  with torch.inference_mode():\n",
        "    for X, y in dataloader:\n",
        "      X, y = X.to(device), y.to(device)\n",
        "      y_logits = model(X)\n",
        "      y_preds = torch.argmax(y_logits, dim= 1)\n",
        "      loss = loss_fn(y_logits, y)\n",
        "      test_loss += loss\n",
        "      test_acc += accuracy(y_preds, y)\n",
        "    test_loss /= len(dataloader)\n",
        "    test_acc /= len(dataloader)\n",
        "    print(f\"test_loss: {test_loss} | test_acc: {test_acc}\")\n",
        "  return test_loss, test_acc"
      ],
      "metadata": {
        "id": "ZBH8F1zRvE5P"
      },
      "execution_count": 74,
      "outputs": []
    },
    {
      "cell_type": "code",
      "source": [
        "from tqdm.auto import tqdm"
      ],
      "metadata": {
        "id": "TSNzH9amw2MG"
      },
      "execution_count": 75,
      "outputs": []
    },
    {
      "cell_type": "code",
      "source": [
        "def train_fn(model, train_dataloader, test_dataloader, loss_fn, optimizer, accuracy, device=device, epochs : int = 5):\n",
        "  results = {\n",
        "      'train_loss' : [],\n",
        "      'train_acc' : [],\n",
        "      'test_loss' : [],\n",
        "      'test_acc' : []\n",
        "  }\n",
        "\n",
        "  for epoch in tqdm(range(epochs)):\n",
        "    train_loss, train_acc = train_step(model, train_dataloader,\n",
        "                                       loss_fn, optimizer, accuracy)\n",
        "\n",
        "    test_loss, test_acc = test_step(model, test_dataloader,\n",
        "                                    loss_fn, accuracy)\n",
        "\n",
        "  results['train_loss'].append(train_loss)\n",
        "  results['train_acc'].append(train_acc)\n",
        "  results['test_loss'].append(test_loss)\n",
        "  results['test_acc'].append(test_acc)\n",
        "\n",
        "  return results"
      ],
      "metadata": {
        "id": "TSAjTGiuvqj-"
      },
      "execution_count": 76,
      "outputs": []
    },
    {
      "cell_type": "code",
      "source": [
        "results = train_fn(model_0, train_dataloader, test_dataloader, loss_fn, optimizer, accuracy, epochs= 5)\n",
        "results"
      ],
      "metadata": {
        "colab": {
          "base_uri": "https://localhost:8080/",
          "height": 292,
          "referenced_widgets": [
            "883b210426494428846196bda876e9a0",
            "b2738b0f0b674470863a919abd178fe0",
            "65c433a366f24ac3859444a5b70fd76a",
            "0f68f41f88414d4996c2bab7761b2abc",
            "1b84487eef9d4aa38d1252f5ace08b28",
            "b7f475dda4d64739a6adf6c79f90777d",
            "ab38a716fb484a64ac49ee1334ca1c26",
            "e69cd010346c45a99242ffc87ee1270c",
            "d902592deca94f7a9a6fa60caa7aec89",
            "b6285e5fc7a249c0ba26f805cd438aba",
            "57143c01c9674b4b903551fe55d416c9"
          ]
        },
        "id": "kEbSH9k0xXkQ",
        "outputId": "b98843d8-7e47-4895-c0a2-b091d0d56b46"
      },
      "execution_count": 77,
      "outputs": [
        {
          "output_type": "display_data",
          "data": {
            "text/plain": [
              "  0%|          | 0/5 [00:00<?, ?it/s]"
            ],
            "application/vnd.jupyter.widget-view+json": {
              "version_major": 2,
              "version_minor": 0,
              "model_id": "883b210426494428846196bda876e9a0"
            }
          },
          "metadata": {}
        },
        {
          "output_type": "stream",
          "name": "stdout",
          "text": [
            "train_loss: 0.18139097094535828 | train_acc: 0.9387798309326172\n",
            "test_loss: 0.1065259650349617 | test_acc: 0.9660729765892029\n",
            "train_loss: 0.10458575934171677 | train_acc: 0.9648215174674988\n",
            "test_loss: 0.0824647769331932 | test_acc: 0.9722127318382263\n",
            "train_loss: 0.06743864715099335 | train_acc: 0.9774601459503174\n",
            "test_loss: 0.03827165812253952 | test_acc: 0.9883745312690735\n",
            "train_loss: 0.034081052988767624 | train_acc: 0.9894410967826843\n",
            "test_loss: 0.0515461191534996 | test_acc: 0.9815486073493958\n",
            "train_loss: 0.025180455297231674 | train_acc: 0.9916097521781921\n",
            "test_loss: 0.0228856410831213 | test_acc: 0.9930673837661743\n"
          ]
        },
        {
          "output_type": "execute_result",
          "data": {
            "text/plain": [
              "{'train_loss': [tensor(0.0252, device='cuda:0', grad_fn=<DivBackward0>)],\n",
              " 'train_acc': [tensor(0.9916, device='cuda:0')],\n",
              " 'test_loss': [tensor(0.0229, device='cuda:0')],\n",
              " 'test_acc': [tensor(0.9931, device='cuda:0')]}"
            ]
          },
          "metadata": {},
          "execution_count": 77
        }
      ]
    },
    {
      "cell_type": "code",
      "source": [
        "def plot_random_predictions(model, dataset, device=device):\n",
        "  rows, cols = 3, 3\n",
        "  plt.figure(figsize=(11,7))\n",
        "  model.eval()\n",
        "  with torch.inference_mode():\n",
        "    for i in range(rows*cols):\n",
        "      rand_sample = random.choice(dataset)\n",
        "      img, label = rand_sample\n",
        "      img = img.to(device)\n",
        "      y_logit = model(img.unsqueeze(dim= 0))\n",
        "      y_pred = torch.argmax(torch.softmax(y_logit, dim= 1), dim= 1)\n",
        "      plt.subplot(rows, cols, i+1)\n",
        "      plt.axis(False)\n",
        "      title = f\"truth: {class_names[label]} | pred: {class_names[y_pred]}\"\n",
        "      if y_pred == label:\n",
        "        plt.title(title, c='g')\n",
        "      else:\n",
        "        plt.title(title, c='r')\n",
        "      plt.imshow(img.permute(1, 2, 0).cpu())"
      ],
      "metadata": {
        "collapsed": true,
        "id": "dvN7c3R324qt"
      },
      "execution_count": 78,
      "outputs": []
    },
    {
      "cell_type": "code",
      "source": [
        "plot_random_predictions(model_0, test_data)"
      ],
      "metadata": {
        "colab": {
          "base_uri": "https://localhost:8080/",
          "height": 598
        },
        "id": "TiihJ-Vh24nN",
        "outputId": "5d4144cf-bcb2-4945-f4b6-c8a501bcb554"
      },
      "execution_count": 85,
      "outputs": [
        {
          "output_type": "display_data",
          "data": {
            "text/plain": [
              "<Figure size 1100x700 with 9 Axes>"
            ],
            "image/png": "[encoded data removed]"
          },
          "metadata": {}
        }
      ]
    },
    {
      "cell_type": "code",
      "source": [
        "from torchmetrics import ConfusionMatrix\n",
        "from mlxtend.plotting import plot_confusion_matrix"
      ],
      "metadata": {
        "id": "VUghau2SxpMe"
      },
      "execution_count": 80,
      "outputs": []
    },
    {
      "cell_type": "code",
      "source": [
        "conf_mat = ConfusionMatrix(task= 'multiclass', num_classes = len(class_names))\n",
        "conf_mat"
      ],
      "metadata": {
        "colab": {
          "base_uri": "https://localhost:8080/"
        },
        "id": "1-dShPos1BWL",
        "outputId": "02c3a0bd-6af7-46ff-ba3d-c46a2463c1da"
      },
      "execution_count": 81,
      "outputs": [
        {
          "output_type": "execute_result",
          "data": {
            "text/plain": [
              "MulticlassConfusionMatrix()"
            ]
          },
          "metadata": {},
          "execution_count": 81
        }
      ]
    },
    {
      "cell_type": "code",
      "source": [
        "y_predictions = []\n",
        "truth_labels = []\n",
        "model_0.eval()\n",
        "with torch.inference_mode():\n",
        "  for X, y in test_dataloader:\n",
        "    X, y = X.to(device), y.to(device)\n",
        "    y_logits = model_0(X)\n",
        "    y_preds = torch.argmax(torch.softmax(y_logits, dim= 1), dim= 1)\n",
        "    y_predictions.append(y_preds.cpu())\n",
        "    truth_labels.append(y.cpu())\n",
        "y_pred_tensor = torch.cat(y_predictions)\n",
        "y_truth_labels = torch.cat(truth_labels)"
      ],
      "metadata": {
        "id": "8lksmOR2A7z6"
      },
      "execution_count": 82,
      "outputs": []
    },
    {
      "cell_type": "code",
      "source": [
        "matrix = conf_mat(preds= y_pred_tensor, target= y_truth_labels)\n",
        "fig, ax = plot_confusion_matrix(conf_mat= matrix.numpy(),\n",
        "                                class_names= class_names,\n",
        "                                figsize=(10, 7));"
      ],
      "metadata": {
        "colab": {
          "base_uri": "https://localhost:8080/",
          "height": 667
        },
        "id": "nHnMu8h_BzSg",
        "outputId": "84261f3a-d86f-4ba8-f038-73c4d06303f1"
      },
      "execution_count": 83,
      "outputs": [
        {
          "output_type": "display_data",
          "data": {
            "text/plain": [
              "<Figure size 1000x700 with 1 Axes>"
            ],
            "image/png": "[encoded data removed]"
          },
          "metadata": {}
        }
      ]
    }
  ]
}